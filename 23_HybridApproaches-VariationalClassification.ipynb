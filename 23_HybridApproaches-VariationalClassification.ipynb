{
 "cells": [
  {
   "cell_type": "markdown",
   "metadata": {},
   "source": [
    "# Chapter 23: Hybrid Approaches - Variational Classification \n",
    "### Qiskit 1.0 (0.46)\n",
    "\n",
    "We use the parameterized $qiskit4 quantum circuit over two qubits $U_{\\phi(\\textbf{x})}=ZZFeatureMap$ with repetition two where the parameter are defined by the data by the command $bind\\_parameters$ with the two dimensional vector $\\textbf{x}$.\n",
    "The variational quantum circuits that represents the free parameter $\\textbf{w}$ that will adapt during  training is the $qiskit$ quantum circuit  $U_{W(\\textbf{w})}=TwoLocal$.\n",
    "The $TwoLocal$ circuit is a parameterized circuit consisting of alternating rotation layers and entanglement layers. The rotation layers are single qubit gates applied on all qubits. The entanglement layer uses two-qubit gates to entangle the qubits according to the definition. In our example we will use the rotation gates $RX$ and $RZ$ and the  entanglement  gate  \n",
    "controlled $Z$ rotation, $CZ$. with two repetitions resulting in $12$ free parameters. The twelve dimensional vector  $\\textbf{w}$  defines the parameters by the  $bind\\_parameters$  command. After the operations we measure the two qubits"
   ]
  },
  {
   "cell_type": "code",
   "execution_count": 9,
   "metadata": {},
   "outputs": [
    {
     "data": {
      "text/html": [
       "<pre style=\"word-wrap: normal;white-space: pre;background: #fff0;line-height: 1.1;font-family: &quot;Courier New&quot;,Courier,monospace\">     ┌───┐┌────────┐                       ┌───┐┌────────┐                        ░ ┌────────────┐ ┌───────────┐    »\n",
       "q_0: ┤ H ├┤ P(0.2) ├──■─────────────────■──┤ H ├┤ P(0.2) ├──■─────────────────■───░─┤ Ry(3.2856) ├─┤ Rz(5.131) ├──■─»\n",
       "     ├───┤├────────┤┌─┴─┐┌───────────┐┌─┴─┐├───┤├────────┤┌─┴─┐┌───────────┐┌─┴─┐ ░ ├────────────┤┌┴───────────┴┐ │ »\n",
       "q_1: ┤ H ├┤ P(0.2) ├┤ X ├┤ P(18.503) ├┤ X ├┤ H ├┤ P(0.2) ├┤ X ├┤ P(18.503) ├┤ X ├─░─┤ Ry(5.4851) ├┤ Rz(0.88372) ├─■─»\n",
       "     └───┘└────────┘└───┘└───────────┘└───┘└───┘└────────┘└───┘└───────────┘└───┘ ░ └────────────┘└─────────────┘   »\n",
       "c: 2/═══════════════════════════════════════════════════════════════════════════════════════════════════════════════»\n",
       "                                                                                                                    »\n",
       "«     ┌────────────┐┌────────────┐   ┌────────────┐┌────────────┐ ░ ┌─┐   \n",
       "«q_0: ┤ Ry(4.0889) ├┤ Rz(4.9236) ├─■─┤ Ry(3.6684) ├┤ Rz(3.6071) ├─░─┤M├───\n",
       "«     ├────────────┤├────────────┤ │ ├────────────┤├────────────┤ ░ └╥┘┌─┐\n",
       "«q_1: ┤ Ry(2.4557) ├┤ Rz(5.5903) ├─■─┤ Ry(4.8463) ├┤ Rz(2.4355) ├─░──╫─┤M├\n",
       "«     └────────────┘└────────────┘   └────────────┘└────────────┘ ░  ║ └╥┘\n",
       "«c: 2/═══════════════════════════════════════════════════════════════╩══╩═\n",
       "«                                                                    0  1 </pre>"
      ],
      "text/plain": [
       "     ┌───┐┌────────┐                       ┌───┐┌────────┐                        ░ ┌────────────┐ ┌───────────┐    »\n",
       "q_0: ┤ H ├┤ P(0.2) ├──■─────────────────■──┤ H ├┤ P(0.2) ├──■─────────────────■───░─┤ Ry(3.2856) ├─┤ Rz(5.131) ├──■─»\n",
       "     ├───┤├────────┤┌─┴─┐┌───────────┐┌─┴─┐├───┤├────────┤┌─┴─┐┌───────────┐┌─┴─┐ ░ ├────────────┤┌┴───────────┴┐ │ »\n",
       "q_1: ┤ H ├┤ P(0.2) ├┤ X ├┤ P(18.503) ├┤ X ├┤ H ├┤ P(0.2) ├┤ X ├┤ P(18.503) ├┤ X ├─░─┤ Ry(5.4851) ├┤ Rz(0.88372) ├─■─»\n",
       "     └───┘└────────┘└───┘└───────────┘└───┘└───┘└────────┘└───┘└───────────┘└───┘ ░ └────────────┘└─────────────┘   »\n",
       "c: 2/═══════════════════════════════════════════════════════════════════════════════════════════════════════════════»\n",
       "                                                                                                                    »\n",
       "«     ┌────────────┐┌────────────┐   ┌────────────┐┌────────────┐ ░ ┌─┐   \n",
       "«q_0: ┤ Ry(4.0889) ├┤ Rz(4.9236) ├─■─┤ Ry(3.6684) ├┤ Rz(3.6071) ├─░─┤M├───\n",
       "«     ├────────────┤├────────────┤ │ ├────────────┤├────────────┤ ░ └╥┘┌─┐\n",
       "«q_1: ┤ Ry(2.4557) ├┤ Rz(5.5903) ├─■─┤ Ry(4.8463) ├┤ Rz(2.4355) ├─░──╫─┤M├\n",
       "«     └────────────┘└────────────┘   └────────────┘└────────────┘ ░  ║ └╥┘\n",
       "«c: 2/═══════════════════════════════════════════════════════════════╩══╩═\n",
       "«                                                                    0  1 "
      ]
     },
     "execution_count": 9,
     "metadata": {},
     "output_type": "execute_result"
    }
   ],
   "source": [
    "from qiskit import QuantumCircuit\n",
    "from qiskit_aer import AerSimulator, Aer\n",
    "from qiskit.visualization import plot_histogram\n",
    "import numpy as np\n",
    "from qiskit.circuit.library import ZZFeatureMap, TwoLocal\n",
    "\n",
    "x = [0.1, 0.1]\n",
    "feature_map = ZZFeatureMap(feature_dimension=2, reps=2)\n",
    "feature_map = feature_map.assign_parameters(x)\n",
    "\n",
    "weights =np.array([3.28559355, 5.48514978, 5.13099949,\n",
    "                          0.88372228, 4.08885928, 2.45568528,\n",
    "                          4.92364593, 5.59032015, 3.66837805,\n",
    "                          4.84632313, 3.60713748, 2.43546])\n",
    "two_local = TwoLocal(2, ['ry', 'rz'],'cz', reps=2)\n",
    "two_local = two_local.assign_parameters(weights)\n",
    "\n",
    "\n",
    "\n",
    "qc = QuantumCircuit(2,2)\n",
    "qc.compose(feature_map, inplace=True)\n",
    "qc.barrier()\n",
    "qc.compose(two_local, inplace=True)\n",
    "qc.barrier()\n",
    "qc.measure(0,0)\n",
    "qc.measure(1,1)\n",
    "qc.decompose().draw(fold=130)\n"
   ]
  },
  {
   "cell_type": "code",
   "execution_count": 10,
   "metadata": {},
   "outputs": [
    {
     "name": "stdout",
     "output_type": "stream",
     "text": [
      "\n",
      "Total count are: {'01': 5367, '00': 782, '11': 1945, '10': 1906}\n"
     ]
    },
    {
     "data": {
      "image/png": "[encoded data removed]",
      "text/plain": [
       "<Figure size 504x360 with 1 Axes>"
      ]
     },
     "execution_count": 10,
     "metadata": {},
     "output_type": "execute_result"
    }
   ],
   "source": [
    "simulator = Aer.get_backend('qasm_simulator')\n",
    "result=simulator.run(qc.decompose(),shots=10000).result()\n",
    "counts = result.get_counts()\n",
    "print(\"\\nTotal count are:\",counts)\n",
    "plot_histogram(counts)"
   ]
  },
  {
   "cell_type": "markdown",
   "metadata": {},
   "source": [
    "We perform 1$0000$ shots.\n",
    " The string $01$ appears (approximately) $5483$ times and the string $10$ appears  (approximately)  $1892$. \n",
    " We define the binary output from the binary string by a parity function,  $p(1)=o_k=(5483+1892)/1000=0.7375$."
   ]
  },
  {
   "cell_type": "markdown",
   "metadata": {},
   "source": [
    "## $Qiskit$ Variational Quantum Classifier\n",
    "\n",
    "In this simple $qiskit$  example we create $10$ two dimensional training data points and $5$ testing data points  for two classes each.\n",
    " We use  the same classification circuit as before.\n",
    "We one hot encode our labels, as required by the algorithm using cross entropy.\n",
    "Then, we set up our classical optimizer and the VQC algorithm  using the callback function.\n",
    "We plot the cost function with respect to optimization step,"
   ]
  },
  {
   "cell_type": "code",
   "execution_count": 11,
   "metadata": {},
   "outputs": [],
   "source": [
    "from qiskit_algorithms.utils import algorithm_globals\n",
    "algorithm_globals.random_seed = 3142\n",
    "\n",
    "import numpy as np\n",
    "np.random.seed(algorithm_globals.random_seed)\n",
    "\n",
    "from qiskit_machine_learning.datasets import ad_hoc_data\n",
    "TRAIN_DATA, TRAIN_LABELS, TEST_DATA, TEST_LABELS = (\n",
    "    ad_hoc_data(training_size=10,\n",
    "                test_size=5,\n",
    "                n=2,\n",
    "                gap=0.3,\n",
    "                one_hot=False)\n",
    ")"
   ]
  },
  {
   "cell_type": "code",
   "execution_count": 12,
   "metadata": {},
   "outputs": [],
   "source": [
    "from qiskit.circuit.library import ZZFeatureMap, TwoLocal\n",
    "FEATURE_MAP = ZZFeatureMap(feature_dimension=2, reps=2)\n",
    "VAR_FORM = TwoLocal(2, ['ry', 'rz'], 'cz', reps=2)\n",
    "AD_HOC_CIRCUIT = FEATURE_MAP.compose(VAR_FORM)"
   ]
  },
  {
   "cell_type": "code",
   "execution_count": 13,
   "metadata": {},
   "outputs": [],
   "source": [
    "from sklearn.preprocessing import OneHotEncoder\n",
    "encoder = OneHotEncoder()\n",
    "train_labels_oh = encoder.fit_transform(TRAIN_LABELS.reshape(-1, 1)\n",
    "                                       ).toarray()\n",
    "test_labels_oh = encoder.fit_transform(TEST_LABELS.reshape(-1, 1)\n",
    "                                      ).toarray()"
   ]
  },
  {
   "cell_type": "code",
   "execution_count": 14,
   "metadata": {},
   "outputs": [
    {
     "data": {
      "text/plain": [
       "<qiskit_machine_learning.algorithms.classifiers.vqc.VQC at 0x17ec38520>"
      ]
     },
     "execution_count": 14,
     "metadata": {},
     "output_type": "execute_result"
    }
   ],
   "source": [
    "#import qiskit_algorithms\n",
    "from qiskit_algorithms.optimizers import SPSA\n",
    "\n",
    "\n",
    "class OptimizerLog:\n",
    "    \"\"\"Log to store optimizer's intermediate results\"\"\"\n",
    "    def __init__(self):\n",
    "        self.evaluations = []\n",
    "        self.parameters = []\n",
    "        self.costs = []\n",
    "    def update(self, evaluation, parameter, cost, _stepsize, _accept):\n",
    "        \"\"\"Save intermediate results. Optimizer passes five values\n",
    "        but we ignore the last two.\"\"\"\n",
    "        self.evaluations.append(evaluation)\n",
    "        self.parameters.append(parameter)\n",
    "        self.costs.append(cost)\n",
    "\n",
    "#initial_point = np.random.random(VAR_FORM.num_parameters)\n",
    "initial_point = np.array([0.3200227 , 0.6503638 , 0.55995053,\n",
    "                          0.96566328, 0.38243769, 0.90403094,\n",
    "                          0.82271449, 0.26810137, 0.61076489,\n",
    "                          0.82301609, 0.11789148, 0.29667125])\n",
    "\n",
    "from qiskit_machine_learning.algorithms.classifiers import VQC\n",
    "log = OptimizerLog()\n",
    "vqc = VQC(feature_map=FEATURE_MAP,\n",
    "          ansatz=VAR_FORM,\n",
    "          loss='cross_entropy',\n",
    "          optimizer=SPSA(callback=log.update),\n",
    "          initial_point=initial_point)\n",
    "\n",
    "vqc.fit(TRAIN_DATA, train_labels_oh)"
   ]
  },
  {
   "cell_type": "code",
   "execution_count": 15,
   "metadata": {},
   "outputs": [
    {
     "data": {
      "image/png": "[encoded data removed]",
      "text/plain": [
       "<Figure size 432x288 with 1 Axes>"
      ]
     },
     "metadata": {
      "needs_background": "light"
     },
     "output_type": "display_data"
    }
   ],
   "source": [
    "import matplotlib.pyplot as plt\n",
    "fig = plt.figure()\n",
    "plt.plot(log.evaluations, log.costs)\n",
    "plt.xlabel('Steps')\n",
    "plt.ylabel('Cost')\n",
    "plt.show()"
   ]
  },
  {
   "cell_type": "markdown",
   "metadata": {},
   "source": [
    "We plot the cost function with respect to optimization step, we can see it starts to converge to a minimum"
   ]
  },
  {
   "cell_type": "markdown",
   "metadata": {},
   "source": [
    "Finally we test our trained VQC classifier by score."
   ]
  },
  {
   "cell_type": "code",
   "execution_count": 16,
   "metadata": {},
   "outputs": [
    {
     "data": {
      "text/plain": [
       "0.9"
      ]
     },
     "execution_count": 16,
     "metadata": {},
     "output_type": "execute_result"
    }
   ],
   "source": [
    "# score == accuracy\n",
    "vqc.score(TEST_DATA, test_labels_oh)"
   ]
  }
 ],
 "metadata": {
  "kernelspec": {
   "display_name": "base",
   "language": "python",
   "name": "python3"
  },
  "language_info": {
   "codemirror_mode": {
    "name": "ipython",
    "version": 3
   },
   "file_extension": ".py",
   "mimetype": "text/x-python",
   "name": "python",
   "nbconvert_exporter": "python",
   "pygments_lexer": "ipython3",
   "version": "3.9.12"
  },
  "orig_nbformat": 4
 },
 "nbformat": 4,
 "nbformat_minor": 2
}
