{
 "cells": [
  {
   "cell_type": "markdown",
   "metadata": {},
   "source": [
    "# Chapter 21:  Quantum Perceptron\n",
    "### Qiskit 1.0 (0.46)\n",
    "\n",
    "A quantum Perceptron can be used as building block of larger sy0stems, it can  process an arbitrary number of input vectors in parallel  \n",
    "when the input is presented in superposition $| \\psi   \\rangle $ representing the whole data set  $DB$  of $s$  objects $\\textbf{x}_k$\n",
    "\n",
    "\\begin{equation}\n",
    " \\{\\textbf{x}_k \\in DB~ |~ k \\in \\{1.. s\\}\\}. \n",
    "\n",
    " \\end{equation}\n",
    " with\n",
    "\n",
    "\\begin{equation}\n",
    "| \\psi   \\rangle =  \\frac{1}{\\sqrt{s}} \\sum_{k=1}^s  |\\textbf{x}_k  \\rangle \n",
    "\n",
    "\\end{equation}\n",
    "\n",
    "and then can be further processed"
   ]
  },
  {
   "cell_type": "markdown",
   "metadata": {},
   "source": [
    "In this example we implement a quantum Perceptron with $D=2$ and two control qubits ($m=2$)  qubit $0$ and  with qubit  $2$ and $3$ representing the input and qubit $4$ the bias $x_0=1$"
   ]
  },
  {
   "cell_type": "code",
   "execution_count": 1,
   "metadata": {},
   "outputs": [],
   "source": [
    "import numpy as np\n",
    "from qiskit import QuantumCircuit\n",
    "from qiskit_aer import AerSimulator, Aer\n",
    "from qiskit.visualization import plot_histogram\n",
    "from math import pi\n",
    "from qiskit.circuit.library import QFT"
   ]
  },
  {
   "cell_type": "code",
   "execution_count": 2,
   "metadata": {},
   "outputs": [
    {
     "data": {
      "text/html": [
       "<pre style=\"word-wrap: normal;white-space: pre;background: #fff0;line-height: 1.1;font-family: &quot;Courier New&quot;,Courier,monospace\">     ┌───┐ ░                           ░                                                    ░ ┌──────────┐ ░ ┌─┐   \n",
       "q_0: ┤ H ├─░──■────────■────────■──────░────────────────────────────────────────────────────░─┤0         ├─░─┤M├───\n",
       "     ├───┤ ░  │        │        │      ░                                                    ░ │  IQFT_dg │ ░ └╥┘┌─┐\n",
       "q_1: ┤ H ├─░──┼────────┼────────┼──────░──■────────■────────■────────■────────■──────■──────░─┤1         ├─░──╫─┤M├\n",
       "     ├───┤ ░  │P(π/2)  │        │      ░  │P(π/2)  │P(π/2)  │        │        │      │      ░ └──────────┘ ░  ║ └╥┘\n",
       "q_2: ┤ X ├─░──■────────┼────────┼──────░──■────────■────────┼────────┼────────┼──────┼──────░──────────────░──╫──╫─\n",
       "     ├───┤ ░           │P(π/2)  │      ░                    │P(π/2)  │P(π/2)  │      │      ░              ░  ║  ║ \n",
       "q_3: ┤ X ├─░───────────■────────┼──────░────────────────────■────────■────────┼──────┼──────░──────────────░──╫──╫─\n",
       "     ├───┤ ░                    │P(0)  ░                                      │P(0)  │P(0)  ░              ░  ║  ║ \n",
       "q_4: ┤ X ├─░────────────────────■──────░──────────────────────────────────────■──────■──────░──────────────░──╫──╫─\n",
       "     └───┘ ░                           ░                                                    ░              ░  ║  ║ \n",
       "c: 2/═════════════════════════════════════════════════════════════════════════════════════════════════════════╩══╩═\n",
       "                                                                                                              0  1 </pre>"
      ],
      "text/plain": [
       "     ┌───┐ ░                           ░                                                    ░ ┌──────────┐ ░ ┌─┐   \n",
       "q_0: ┤ H ├─░──■────────■────────■──────░────────────────────────────────────────────────────░─┤0         ├─░─┤M├───\n",
       "     ├───┤ ░  │        │        │      ░                                                    ░ │  IQFT_dg │ ░ └╥┘┌─┐\n",
       "q_1: ┤ H ├─░──┼────────┼────────┼──────░──■────────■────────■────────■────────■──────■──────░─┤1         ├─░──╫─┤M├\n",
       "     ├───┤ ░  │P(π/2)  │        │      ░  │P(π/2)  │P(π/2)  │        │        │      │      ░ └──────────┘ ░  ║ └╥┘\n",
       "q_2: ┤ X ├─░──■────────┼────────┼──────░──■────────■────────┼────────┼────────┼──────┼──────░──────────────░──╫──╫─\n",
       "     ├───┤ ░           │P(π/2)  │      ░                    │P(π/2)  │P(π/2)  │      │      ░              ░  ║  ║ \n",
       "q_3: ┤ X ├─░───────────■────────┼──────░────────────────────■────────■────────┼──────┼──────░──────────────░──╫──╫─\n",
       "     ├───┤ ░                    │P(0)  ░                                      │P(0)  │P(0)  ░              ░  ║  ║ \n",
       "q_4: ┤ X ├─░────────────────────■──────░──────────────────────────────────────■──────■──────░──────────────░──╫──╫─\n",
       "     └───┘ ░                           ░                                                    ░              ░  ║  ║ \n",
       "c: 2/═════════════════════════════════════════════════════════════════════════════════════════════════════════╩══╩═\n",
       "                                                                                                              0  1 "
      ]
     },
     "execution_count": 2,
     "metadata": {},
     "output_type": "execute_result"
    }
   ],
   "source": [
    "qc = QuantumCircuit(5, 2)\n",
    "\n",
    "#Free Parameters set by the User\n",
    "#---------------------------------\n",
    "#Setting the values of weihts\n",
    "w0=0\n",
    "w1=1\n",
    "w2=1\n",
    "#Setting the Input x1=qubit 2, x2=qubit 3\n",
    "qc.x(2)\n",
    "qc.x(3)\n",
    "#---------------------------------\n",
    "#constant values with N=m-1 (m number of controll qubits)\n",
    "N=1\n",
    "qc.h(0)\n",
    "qc.h(1)\n",
    "#Bias w0 qubit 4\n",
    "qc.x(4)\n",
    "\n",
    "qc.barrier()\n",
    "#qc.cp(lambda, control, target)\n",
    "#w1\n",
    "qc.cp(w1*pi/(2*N), 0, 2)\n",
    "#w2\n",
    "qc.cp(w2*pi/(2*N), 0, 3)\n",
    "#w0\n",
    "qc.cp(w0*pi/(2*N), 0, 4)\n",
    "qc.barrier()\n",
    "#w1\n",
    "qc.cp(w1*pi/(2*N), 1, 2)\n",
    "qc.cp(w1*pi/(2*N), 1, 2)\n",
    "#w2\n",
    "qc.cp(w2*pi/(2*N), 1, 3)\n",
    "qc.cp(w2*pi/(2*N), 1, 3)\n",
    "#w0\n",
    "qc.cp(w0*pi/(2*N), 1, 4)\n",
    "qc.cp(w0*pi/(2*N), 1, 4)\n",
    "qc.barrier()\n",
    "\n",
    "qc = qc.compose(QFT(2, inverse=True), [0,1])\n",
    "\n",
    "qc.barrier()\n",
    "\n",
    "qc.measure(0,0)\n",
    "qc.measure(1,1)\n",
    "\n",
    "\n",
    "qc.draw(fold=200)"
   ]
  },
  {
   "cell_type": "markdown",
   "metadata": {},
   "source": [
    "A  a quantum Perceptron with $D=2$ and two control qubits ($m=2$)  qubit $0$ and  with qubit  $2$ and $3$ representing the input $x_1=1$, $x_2=1$ and qubit $4$ the bias $x_0=1$ and the weights $w_0=0$, $w_1=1$ and $w_2=1$."
   ]
  },
  {
   "cell_type": "code",
   "execution_count": 3,
   "metadata": {},
   "outputs": [
    {
     "name": "stdout",
     "output_type": "stream",
     "text": [
      "\n",
      "Total count are: {'10': 1000}\n"
     ]
    },
    {
     "data": {
      "image/png": "[encoded data removed]",
      "text/plain": [
       "<Figure size 504x360 with 1 Axes>"
      ]
     },
     "execution_count": 3,
     "metadata": {},
     "output_type": "execute_result"
    }
   ],
   "source": [
    "simulator = Aer.get_backend('qasm_simulator')\n",
    "result=simulator.run(qc.decompose(),shots=1000).result()\n",
    "counts = result.get_counts()\n",
    "print(\"\\nTotal count are:\",counts)\n",
    "plot_histogram(counts)"
   ]
  },
  {
   "cell_type": "markdown",
   "metadata": {},
   "source": [
    "he measured value of $net=2$  for the input $x_1=1$, $x_2=1$  and the weights $w_0=0$, $w_1=1$ and $w_2=1$."
   ]
  },
  {
   "cell_type": "markdown",
   "metadata": {},
   "source": [
    "For the input $x_1=1$, $x_2=1$  and the weights $w_0=0$, $w_1=0.6$ and $w_2=1$"
   ]
  },
  {
   "cell_type": "code",
   "execution_count": 4,
   "metadata": {},
   "outputs": [
    {
     "data": {
      "text/html": [
       "<pre style=\"word-wrap: normal;white-space: pre;background: #fff0;line-height: 1.1;font-family: &quot;Courier New&quot;,Courier,monospace\">     ┌───┐ ░                             ░                                                        ░ ┌──────────┐ ░ ┌─┐   \n",
       "q_0: ┤ H ├─░──■──────────■────────■──────░────────────────────────────────────────────────────────░─┤0         ├─░─┤M├───\n",
       "     ├───┤ ░  │          │        │      ░                                                        ░ │  IQFT_dg │ ░ └╥┘┌─┐\n",
       "q_1: ┤ H ├─░──┼──────────┼────────┼──────░──■──────────■──────────■────────■────────■──────■──────░─┤1         ├─░──╫─┤M├\n",
       "     ├───┤ ░  │P(3π/10)  │        │      ░  │P(3π/10)  │P(3π/10)  │        │        │      │      ░ └──────────┘ ░  ║ └╥┘\n",
       "q_2: ┤ X ├─░──■──────────┼────────┼──────░──■──────────■──────────┼────────┼────────┼──────┼──────░──────────────░──╫──╫─\n",
       "     ├───┤ ░             │P(π/2)  │      ░                        │P(π/2)  │P(π/2)  │      │      ░              ░  ║  ║ \n",
       "q_3: ┤ X ├─░─────────────■────────┼──────░────────────────────────■────────■────────┼──────┼──────░──────────────░──╫──╫─\n",
       "     ├───┤ ░                      │P(0)  ░                                          │P(0)  │P(0)  ░              ░  ║  ║ \n",
       "q_4: ┤ X ├─░──────────────────────■──────░──────────────────────────────────────────■──────■──────░──────────────░──╫──╫─\n",
       "     └───┘ ░                             ░                                                        ░              ░  ║  ║ \n",
       "c: 2/═══════════════════════════════════════════════════════════════════════════════════════════════════════════════╩══╩═\n",
       "                                                                                                                    0  1 </pre>"
      ],
      "text/plain": [
       "     ┌───┐ ░                             ░                                                        ░ ┌──────────┐ ░ ┌─┐   \n",
       "q_0: ┤ H ├─░──■──────────■────────■──────░────────────────────────────────────────────────────────░─┤0         ├─░─┤M├───\n",
       "     ├───┤ ░  │          │        │      ░                                                        ░ │  IQFT_dg │ ░ └╥┘┌─┐\n",
       "q_1: ┤ H ├─░──┼──────────┼────────┼──────░──■──────────■──────────■────────■────────■──────■──────░─┤1         ├─░──╫─┤M├\n",
       "     ├───┤ ░  │P(3π/10)  │        │      ░  │P(3π/10)  │P(3π/10)  │        │        │      │      ░ └──────────┘ ░  ║ └╥┘\n",
       "q_2: ┤ X ├─░──■──────────┼────────┼──────░──■──────────■──────────┼────────┼────────┼──────┼──────░──────────────░──╫──╫─\n",
       "     ├───┤ ░             │P(π/2)  │      ░                        │P(π/2)  │P(π/2)  │      │      ░              ░  ║  ║ \n",
       "q_3: ┤ X ├─░─────────────■────────┼──────░────────────────────────■────────■────────┼──────┼──────░──────────────░──╫──╫─\n",
       "     ├───┤ ░                      │P(0)  ░                                          │P(0)  │P(0)  ░              ░  ║  ║ \n",
       "q_4: ┤ X ├─░──────────────────────■──────░──────────────────────────────────────────■──────■──────░──────────────░──╫──╫─\n",
       "     └───┘ ░                             ░                                                        ░              ░  ║  ║ \n",
       "c: 2/═══════════════════════════════════════════════════════════════════════════════════════════════════════════════╩══╩═\n",
       "                                                                                                                    0  1 "
      ]
     },
     "execution_count": 4,
     "metadata": {},
     "output_type": "execute_result"
    }
   ],
   "source": [
    "qc = QuantumCircuit(5, 2)\n",
    "\n",
    "#Free Parameters set by the User\n",
    "#---------------------------------\n",
    "#Setting the values of weihts\n",
    "w0=0\n",
    "w1=0.6\n",
    "w2=1\n",
    "#Setting the Input x1=qubit 2, x2=qubit 3\n",
    "qc.x(2)\n",
    "qc.x(3)\n",
    "#---------------------------------\n",
    "#constant values with N=m-1 (m number of controll qubits)\n",
    "N=1\n",
    "qc.h(0)\n",
    "qc.h(1)\n",
    "#Bias w0 qubit 4\n",
    "qc.x(4)\n",
    "\n",
    "qc.barrier()\n",
    "#qc.cp(lambda, control, target)\n",
    "#w1\n",
    "qc.cp(w1*pi/(2*N), 0, 2)\n",
    "#w2\n",
    "qc.cp(w2*pi/(2*N), 0, 3)\n",
    "#w0\n",
    "qc.cp(w0*pi/(2*N), 0, 4)\n",
    "qc.barrier()\n",
    "#w1\n",
    "qc.cp(w1*pi/(2*N), 1, 2)\n",
    "qc.cp(w1*pi/(2*N), 1, 2)\n",
    "#w2\n",
    "qc.cp(w2*pi/(2*N), 1, 3)\n",
    "qc.cp(w2*pi/(2*N), 1, 3)\n",
    "#w0\n",
    "qc.cp(w0*pi/(2*N), 1, 4)\n",
    "qc.cp(w0*pi/(2*N), 1, 4)\n",
    "qc.barrier()\n",
    "\n",
    "qc = qc.compose(QFT(2, inverse=True), [0,1])\n",
    "\n",
    "qc.barrier()\n",
    "\n",
    "qc.measure(0,0)\n",
    "qc.measure(1,1)\n",
    "\n",
    "\n",
    "qc.draw(fold=200)"
   ]
  },
  {
   "cell_type": "code",
   "execution_count": 5,
   "metadata": {},
   "outputs": [
    {
     "name": "stdout",
     "output_type": "stream",
     "text": [
      "\n",
      "Total count are: {'01': 303, '11': 72, '00': 60, '10': 565}\n"
     ]
    },
    {
     "data": {
      "image/png": "[encoded data removed]",
      "text/plain": [
       "<Figure size 504x360 with 1 Axes>"
      ]
     },
     "execution_count": 5,
     "metadata": {},
     "output_type": "execute_result"
    }
   ],
   "source": [
    "simulator = Aer.get_backend('qasm_simulator')\n",
    "result=simulator.run(qc.decompose(),shots=1000).result()\n",
    "counts = result.get_counts()\n",
    "print(\"\\nTotal count are:\",counts)\n",
    "plot_histogram(counts)"
   ]
  },
  {
   "cell_type": "markdown",
   "metadata": {},
   "source": [
    " The measured value of $net$  for the input $x_1=1$, $x_2=1$  and the weights $w_0=0$, $w_1=0.6$ and $w_2=1$ is in superposition between $2$ and $1$ ($net=1.6$)"
   ]
  }
 ],
 "metadata": {
  "kernelspec": {
   "display_name": "base",
   "language": "python",
   "name": "python3"
  },
  "language_info": {
   "codemirror_mode": {
    "name": "ipython",
    "version": 3
   },
   "file_extension": ".py",
   "mimetype": "text/x-python",
   "name": "python",
   "nbconvert_exporter": "python",
   "pygments_lexer": "ipython3",
   "version": "3.9.12"
  },
  "orig_nbformat": 4
 },
 "nbformat": 4,
 "nbformat_minor": 2
}
