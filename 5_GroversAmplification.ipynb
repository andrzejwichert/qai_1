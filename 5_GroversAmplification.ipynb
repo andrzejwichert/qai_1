{
 "cells": [
  {
   "cell_type": "markdown",
   "metadata": {},
   "source": [
    "# Chapter 5: Grover's Amplification\n",
    "### Qiskit 1.0 (0.46)\n",
    "\n",
    "Grover's amplification  algorithm implements  exhaustive search in $O( \\sqrt{n})$ steps in  n-dimensional Hilbert space. It is as good as any possible quantum algorithm for exhaustive search  due to the  lower bound $\\Omega( \\sqrt{n})$. "
   ]
  },
  {
   "attachments": {},
   "cell_type": "markdown",
   "metadata": {},
   "source": [
    "## NumPy Example with Matrix Notation\n",
    "\n",
    "We will demonstrate the principles of Grover's amplification using the matrix notation before explaining how to represent the algorithm with quantum gates.\n",
    "To this we will use python together with $NuPy$ library that is a part of the $qiskit$ installation.  We will demonstrate the example of $m=3$, means $8=2^3$ different states. First we will built $H_3$ matrix by  (tensor) Kronecker product operation $kron$  of $H$ matrix."
   ]
  },
  {
   "cell_type": "code",
   "execution_count": 83,
   "metadata": {},
   "outputs": [],
   "source": [
    "import numpy as np\n",
    "np.set_printoptions(precision=4)"
   ]
  },
  {
   "cell_type": "code",
   "execution_count": 84,
   "metadata": {},
   "outputs": [
    {
     "name": "stdout",
     "output_type": "stream",
     "text": [
      "H=\n",
      " [[ 0.7071  0.7071]\n",
      " [ 0.7071 -0.7071]]\n"
     ]
    }
   ],
   "source": [
    "H=np.matrix([[1, 1], [1, -1]])\n",
    "H=H*1/np.sqrt(2)\n",
    "np.matrix.view(H)\n",
    "print(\"H=\\n\",H)"
   ]
  },
  {
   "attachments": {},
   "cell_type": "markdown",
   "metadata": {},
   "source": [
    "Results in the Hadarmard matrix."
   ]
  },
  {
   "cell_type": "code",
   "execution_count": 85,
   "metadata": {},
   "outputs": [
    {
     "name": "stdout",
     "output_type": "stream",
     "text": [
      "H2=\n",
      " [[ 0.5  0.5  0.5  0.5]\n",
      " [ 0.5 -0.5  0.5 -0.5]\n",
      " [ 0.5  0.5 -0.5 -0.5]\n",
      " [ 0.5 -0.5 -0.5  0.5]]\n"
     ]
    }
   ],
   "source": [
    "H2=np.kron(H,H)\n",
    "print(\"H2=\\n\",H2)"
   ]
  },
  {
   "cell_type": "code",
   "execution_count": 86,
   "metadata": {},
   "outputs": [
    {
     "name": "stdout",
     "output_type": "stream",
     "text": [
      "H3=\n",
      " [[ 0.3536  0.3536  0.3536  0.3536  0.3536  0.3536  0.3536  0.3536]\n",
      " [ 0.3536 -0.3536  0.3536 -0.3536  0.3536 -0.3536  0.3536 -0.3536]\n",
      " [ 0.3536  0.3536 -0.3536 -0.3536  0.3536  0.3536 -0.3536 -0.3536]\n",
      " [ 0.3536 -0.3536 -0.3536  0.3536  0.3536 -0.3536 -0.3536  0.3536]\n",
      " [ 0.3536  0.3536  0.3536  0.3536 -0.3536 -0.3536 -0.3536 -0.3536]\n",
      " [ 0.3536 -0.3536  0.3536 -0.3536 -0.3536  0.3536 -0.3536  0.3536]\n",
      " [ 0.3536  0.3536 -0.3536 -0.3536 -0.3536 -0.3536  0.3536  0.3536]\n",
      " [ 0.3536 -0.3536 -0.3536  0.3536 -0.3536  0.3536  0.3536 -0.3536]]\n"
     ]
    }
   ],
   "source": [
    "H3=np.kron(H,H2)\n",
    "print(\"H3=\\n\",H3)"
   ]
  },
  {
   "attachments": {},
   "cell_type": "markdown",
   "metadata": {},
   "source": [
    "Using the  Kronecker product operation define $H_3$. Then we define $\\Lambda_m$,"
   ]
  },
  {
   "cell_type": "code",
   "execution_count": 87,
   "metadata": {},
   "outputs": [
    {
     "data": {
      "text/plain": [
       "array([[1., 0., 0., 0., 0., 0., 0., 0.],\n",
       "       [0., 1., 0., 0., 0., 0., 0., 0.],\n",
       "       [0., 0., 1., 0., 0., 0., 0., 0.],\n",
       "       [0., 0., 0., 1., 0., 0., 0., 0.],\n",
       "       [0., 0., 0., 0., 1., 0., 0., 0.],\n",
       "       [0., 0., 0., 0., 0., 1., 0., 0.],\n",
       "       [0., 0., 0., 0., 0., 0., 1., 0.],\n",
       "       [0., 0., 0., 0., 0., 0., 0., 1.]])"
      ]
     },
     "execution_count": 87,
     "metadata": {},
     "output_type": "execute_result"
    }
   ],
   "source": [
    "I3=np.eye(8)\n",
    "I3"
   ]
  },
  {
   "cell_type": "code",
   "execution_count": 88,
   "metadata": {},
   "outputs": [
    {
     "data": {
      "text/plain": [
       "matrix([[-1.,  0.,  0.,  0.,  0.,  0.,  0.,  0.],\n",
       "        [ 0.,  1.,  0.,  0.,  0.,  0.,  0.,  0.],\n",
       "        [ 0.,  0.,  1.,  0.,  0.,  0.,  0.,  0.],\n",
       "        [ 0.,  0.,  0.,  1.,  0.,  0.,  0.,  0.],\n",
       "        [ 0.,  0.,  0.,  0.,  1.,  0.,  0.,  0.],\n",
       "        [ 0.,  0.,  0.,  0.,  0.,  1.,  0.,  0.],\n",
       "        [ 0.,  0.,  0.,  0.,  0.,  0.,  1.,  0.],\n",
       "        [ 0.,  0.,  0.,  0.,  0.,  0.,  0.,  1.]])"
      ]
     },
     "execution_count": 88,
     "metadata": {},
     "output_type": "execute_result"
    }
   ],
   "source": [
    "L3=np.matrix([[-1., 0., 0., 0., 0., 0., 0., 0.],\n",
    "       [0., 1., 0., 0., 0., 0., 0., 0.],\n",
    "       [0., 0., 1., 0., 0., 0., 0., 0.],\n",
    "       [0., 0., 0., 1., 0., 0., 0., 0.],\n",
    "       [0., 0., 0., 0., 1., 0., 0., 0.],\n",
    "       [0., 0., 0., 0., 0., 1., 0., 0.],\n",
    "       [0., 0., 0., 0., 0., 0., 1., 0.],\n",
    "       [0., 0., 0., 0., 0., 0., 0., 1.]])\n",
    "L3       "
   ]
  },
  {
   "attachments": {},
   "cell_type": "markdown",
   "metadata": {},
   "source": [
    "and \n",
    "\\begin{equation}\n",
    "G_3= - (H_3  \\cdot \\Lambda_3 \\cdot H_3)\n",
    "\\end{equation}"
   ]
  },
  {
   "cell_type": "code",
   "execution_count": 89,
   "metadata": {},
   "outputs": [
    {
     "name": "stdout",
     "output_type": "stream",
     "text": [
      "G3=\n",
      " [[-0.75  0.25  0.25  0.25  0.25  0.25  0.25  0.25]\n",
      " [ 0.25 -0.75  0.25  0.25  0.25  0.25  0.25  0.25]\n",
      " [ 0.25  0.25 -0.75  0.25  0.25  0.25  0.25  0.25]\n",
      " [ 0.25  0.25  0.25 -0.75  0.25  0.25  0.25  0.25]\n",
      " [ 0.25  0.25  0.25  0.25 -0.75  0.25  0.25  0.25]\n",
      " [ 0.25  0.25  0.25  0.25  0.25 -0.75  0.25  0.25]\n",
      " [ 0.25  0.25  0.25  0.25  0.25  0.25 -0.75  0.25]\n",
      " [ 0.25  0.25  0.25  0.25  0.25  0.25  0.25 -0.75]]\n"
     ]
    }
   ],
   "source": [
    "G=-H3*L3*H3\n",
    "print(\"G3=\\n\",G)"
   ]
  },
  {
   "attachments": {},
   "cell_type": "markdown",
   "metadata": {},
   "source": [
    "In the next step we represent the state vector with equally distributed amplitudes and mark the solution with a minus sign"
   ]
  },
  {
   "cell_type": "code",
   "execution_count": 90,
   "metadata": {},
   "outputs": [
    {
     "name": "stdout",
     "output_type": "stream",
     "text": [
      "x1=\n",
      " [ 0.3536  0.3536  0.3536  0.3536 -0.3536  0.3536  0.3536  0.3536]\n"
     ]
    }
   ],
   "source": [
    "a=1/np.sqrt(8)\n",
    "x1=np.array([a,a,a,a,-a,a,a,a])\n",
    "print(\"x1=\\n\",x1)"
   ]
  },
  {
   "attachments": {},
   "cell_type": "markdown",
   "metadata": {},
   "source": [
    "and perform a step in Grover's amplification as with the resulting amplitudes"
   ]
  },
  {
   "cell_type": "code",
   "execution_count": 91,
   "metadata": {},
   "outputs": [
    {
     "name": "stdout",
     "output_type": "stream",
     "text": [
      "x1=\n",
      " [[0.1768 0.1768 0.1768 0.1768 0.8839 0.1768 0.1768 0.1768]]\n"
     ]
    }
   ],
   "source": [
    "x1=G.dot(x1)\n",
    "print(\"x1=\\n\",x1)"
   ]
  },
  {
   "attachments": {},
   "cell_type": "markdown",
   "metadata": {},
   "source": [
    "and perform the second iteration with the resulting amplitudes"
   ]
  },
  {
   "cell_type": "code",
   "execution_count": 92,
   "metadata": {},
   "outputs": [
    {
     "name": "stdout",
     "output_type": "stream",
     "text": [
      "x2=\n",
      " [[-0.0884 -0.0884 -0.0884 -0.0884  0.9723 -0.0884 -0.0884 -0.0884]]\n"
     ]
    }
   ],
   "source": [
    "x2=np.array([0.1768, 0.1768, 0.1768, 0.1768, -0.8839, 0.1768, 0.1768, 0.1768])\n",
    "x2=G.dot(x2)\n",
    "print(\"x2=\\n\",x2)"
   ]
  },
  {
   "attachments": {},
   "cell_type": "markdown",
   "metadata": {},
   "source": [
    "With two rotations we achieved the maximal amplitude value that corresponds to the probability value $0.945367=|0.9723|^2$. After the third rotation the amplitudes diminish again."
   ]
  },
  {
   "cell_type": "code",
   "execution_count": 93,
   "metadata": {},
   "outputs": [
    {
     "name": "stdout",
     "output_type": "stream",
     "text": [
      "x3=\n",
      " [[-0.3094 -0.3094 -0.3094 -0.3094  0.5745 -0.3094 -0.3094 -0.3094]]\n"
     ]
    }
   ],
   "source": [
    "x3=np.array([-0.0884, -0.0884, -0.0884, -0.0884,-0.9723, -0.0884, -0.0884, -0.0884])\n",
    "x3=G.dot(x3)\n",
    "print(\"x3=\\n\",x3)"
   ]
  },
  {
   "attachments": {},
   "cell_type": "markdown",
   "metadata": {},
   "source": [
    "## Decompsition\n",
    "\n",
    "With the Grove's amplification\n",
    "$G_m=  - (H_m  \\cdot \\Lambda_m \\cdot H_m) $\n",
    "How can we decompose $\\Lambda_m$ by quantum gates?\n",
    "For three qubits we can define $\\Lambda_3$ accordingly with\n",
    "\\begin{equation}\n",
    "X_3=X \\otimes X \\otimes X \n",
    "\\end{equation}\n",
    "\n",
    "\\begin{equation}\n",
    "H_0=I \\otimes I \\otimes  H\n",
    "\\end{equation}\n",
    "\n",
    "\\begin{equation}\n",
    "\\Lambda_3=X_3 \\cdot  H_0 \\cdot CCX \\cdot   H_0 \\cdot  X_3 \n",
    "\\end{equation}\n",
    "\n",
    "and we can represent it by the following circuit"
   ]
  },
  {
   "cell_type": "code",
   "execution_count": 94,
   "metadata": {},
   "outputs": [
    {
     "data": {
      "text/plain": [
       "<qiskit.circuit.instructionset.InstructionSet at 0x16a5f8eb0>"
      ]
     },
     "execution_count": 94,
     "metadata": {},
     "output_type": "execute_result"
    }
   ],
   "source": [
    "from qiskit import QuantumCircuit\n",
    "from qiskit_aer import AerSimulator, Aer\n",
    "\n",
    "qc = QuantumCircuit(3)\n",
    "\n",
    "#Lambda\n",
    "qc.x([0,1,2])\n",
    "qc.h(0)\n",
    "qc.ccx(1,2,0)\n",
    "qc.h(0)\n",
    "qc.barrier()\n",
    "qc.x([0,1,2])"
   ]
  },
  {
   "attachments": {},
   "cell_type": "markdown",
   "metadata": {},
   "source": [
    "with $\\Lambda_3=X_3 \\cdot  H_0 \\cdot CCX \\cdot   H_0 \\cdot  X_3$ "
   ]
  },
  {
   "cell_type": "code",
   "execution_count": 95,
   "metadata": {},
   "outputs": [
    {
     "name": "stdout",
     "output_type": "stream",
     "text": [
      "\n",
      "Size of the unitary matrix: (8, 8)\n"
     ]
    },
    {
     "data": {
      "text/latex": [
       "$$\n",
       "\\text{Lambda = }\n",
       "\n",
       "\\begin{bmatrix}\n",
       "-1 & 0 & 0 & 0 & 0 & 0 & 0 & 0  \\\\\n",
       " 0 & 1 & 0 & 0 & 0 & 0 & 0 & 0  \\\\\n",
       " 0 & 0 & 1 & 0 & 0 & 0 & 0 & 0  \\\\\n",
       " 0 & 0 & 0 & 1 & 0 & 0 & 0 & 0  \\\\\n",
       " 0 & 0 & 0 & 0 & 1 & 0 & 0 & 0  \\\\\n",
       " 0 & 0 & 0 & 0 & 0 & 1 & 0 & 0  \\\\\n",
       " 0 & 0 & 0 & 0 & 0 & 0 & 1 & 0  \\\\\n",
       " 0 & 0 & 0 & 0 & 0 & 0 & 0 & 1  \\\\\n",
       " \\end{bmatrix}\n",
       "$$"
      ],
      "text/plain": [
       "<IPython.core.display.Latex object>"
      ]
     },
     "execution_count": 95,
     "metadata": {},
     "output_type": "execute_result"
    }
   ],
   "source": [
    "from qiskit.visualization import array_to_latex\n",
    "from qiskit import assemble\n",
    "\n",
    "simulator = Aer.get_backend('qasm_simulator')\n",
    "qc.save_unitary()\n",
    "result = simulator.run(qc).result()\n",
    "unitary = result.get_unitary(qc)\n",
    "print(\"\\nSize of the unitary matrix:\",np.asarray(unitary).shape)\n",
    "array_to_latex(unitary, prefix=\"\\\\text{Lambda = }\\n\")"
   ]
  },
  {
   "cell_type": "code",
   "execution_count": 96,
   "metadata": {},
   "outputs": [],
   "source": [
    "from qiskit import QuantumCircuit\n",
    "from qiskit_aer import AerSimulator, Aer\n",
    "from qiskit.visualization import plot_histogram\n",
    "import numpy as np\n",
    "from math import pi"
   ]
  },
  {
   "attachments": {},
   "cell_type": "markdown",
   "metadata": {},
   "source": [
    "and $G_3=  - (H_3  \\cdot \\Lambda_3 \\cdot H_3) $"
   ]
  },
  {
   "cell_type": "code",
   "execution_count": 97,
   "metadata": {},
   "outputs": [
    {
     "data": {
      "text/plain": [
       "<qiskit.circuit.instructionset.InstructionSet at 0x16a64f250>"
      ]
     },
     "execution_count": 97,
     "metadata": {},
     "output_type": "execute_result"
    }
   ],
   "source": [
    "qc = QuantumCircuit(3)\n",
    "\n",
    "#Difusor\n",
    "qc.h([0,1,2])\n",
    "qc.x([0,1,2])\n",
    "qc.h(0)\n",
    "qc.ccx(1,2,0)\n",
    "qc.h(0)\n",
    "qc.barrier()\n",
    "qc.x([0,1,2])\n",
    "qc.h([0,1,2])\n",
    "\n",
    "#Corrrect the sign, not required...\n",
    "qc.rz(2*pi,0)\n",
    "qc.rz(2*pi,1)\n",
    "qc.rz(2*pi,2)\n"
   ]
  },
  {
   "attachments": {},
   "cell_type": "markdown",
   "metadata": {},
   "source": [
    "resulting in the matrix $G_3$"
   ]
  },
  {
   "cell_type": "code",
   "execution_count": 98,
   "metadata": {},
   "outputs": [
    {
     "name": "stdout",
     "output_type": "stream",
     "text": [
      "\n",
      "Size of the unitary matrix: (8, 8)\n"
     ]
    },
    {
     "data": {
      "text/latex": [
       "$$\n",
       "\\text{G3 = }\n",
       "\n",
       "\\begin{bmatrix}\n",
       "- \\frac{3}{4} & \\frac{1}{4} & \\frac{1}{4} & \\frac{1}{4} & \\frac{1}{4} & \\frac{1}{4} & \\frac{1}{4} & \\frac{1}{4}  \\\\\n",
       " \\frac{1}{4} & - \\frac{3}{4} & \\frac{1}{4} & \\frac{1}{4} & \\frac{1}{4} & \\frac{1}{4} & \\frac{1}{4} & \\frac{1}{4}  \\\\\n",
       " \\frac{1}{4} & \\frac{1}{4} & - \\frac{3}{4} & \\frac{1}{4} & \\frac{1}{4} & \\frac{1}{4} & \\frac{1}{4} & \\frac{1}{4}  \\\\\n",
       " \\frac{1}{4} & \\frac{1}{4} & \\frac{1}{4} & - \\frac{3}{4} & \\frac{1}{4} & \\frac{1}{4} & \\frac{1}{4} & \\frac{1}{4}  \\\\\n",
       " \\frac{1}{4} & \\frac{1}{4} & \\frac{1}{4} & \\frac{1}{4} & - \\frac{3}{4} & \\frac{1}{4} & \\frac{1}{4} & \\frac{1}{4}  \\\\\n",
       " \\frac{1}{4} & \\frac{1}{4} & \\frac{1}{4} & \\frac{1}{4} & \\frac{1}{4} & - \\frac{3}{4} & \\frac{1}{4} & \\frac{1}{4}  \\\\\n",
       " \\frac{1}{4} & \\frac{1}{4} & \\frac{1}{4} & \\frac{1}{4} & \\frac{1}{4} & \\frac{1}{4} & - \\frac{3}{4} & \\frac{1}{4}  \\\\\n",
       " \\frac{1}{4} & \\frac{1}{4} & \\frac{1}{4} & \\frac{1}{4} & \\frac{1}{4} & \\frac{1}{4} & \\frac{1}{4} & - \\frac{3}{4}  \\\\\n",
       " \\end{bmatrix}\n",
       "$$"
      ],
      "text/plain": [
       "<IPython.core.display.Latex object>"
      ]
     },
     "execution_count": 98,
     "metadata": {},
     "output_type": "execute_result"
    }
   ],
   "source": [
    "from qiskit.visualization import array_to_latex\n",
    "from qiskit import assemble\n",
    "\n",
    "simulator = Aer.get_backend('qasm_simulator')\n",
    "qc.save_unitary()\n",
    "result = simulator.run(qc).result()\n",
    "unitary = result.get_unitary(qc)\n",
    "print(\"\\nSize of the unitary matrix:\",np.asarray(unitary).shape)\n",
    "array_to_latex(unitary, prefix=\"\\\\text{G3 = }\\n\")"
   ]
  },
  {
   "attachments": {},
   "cell_type": "markdown",
   "metadata": {},
   "source": [
    "# Qiskit Examples\n",
    "\n",
    "n the next step we apply Grover's amplification to a marked state of three qubits. \n",
    "Our solution corresponds to the Boolean formula \n",
    "$\\neg x  \\wedge y  \\wedge \\neg z $\n",
    "for which it evaluates true, which is the case for $x=0$, $y=1$ and $z=0$. In this case  the state  determined by the oracle function is  $o(010)=1$ with the solution  encoded by  $ (-1)^{o(x)}$. \n",
    "The unitary operator $T$ \n",
    "\\begin{equation}\n",
    "T=  (X\\otimes  I \\otimes X \\otimes I) \\cdot  MCX  \\cdot  (X \\otimes I \\otimes X \\otimes I)\n",
    "\\end{equation}\n",
    "represents the oracle function $o(x)$ that determines if the configuration is the goal configuration and\n",
    "\\begin{equation}\n",
    "H_0 \\cdot   T\\cdot H_{4} \\cdot |0001\\rangle =   \n",
    "   \\frac{1}{\\sqrt{8}} \\sum\\limits_{x \\in B^3}  (-1)^{o(x)} \\cdot |x \\rangle\n",
    "\\otimes    |0  \\rangle\n",
    "\\end{equation}\n"
   ]
  },
  {
   "cell_type": "code",
   "execution_count": 99,
   "metadata": {},
   "outputs": [
    {
     "data": {
      "text/html": [
       "<pre style=\"word-wrap: normal;white-space: pre;background: #fff0;line-height: 1.1;font-family: &quot;Courier New&quot;,Courier,monospace\">     ┌───┐      ░ ┌───┐     ┌───┐ ░      \n",
       "q_0: ┤ H ├──────░─┤ X ├──■──┤ X ├─░──────\n",
       "     ├───┤      ░ └───┘  │  └───┘ ░      \n",
       "q_1: ┤ H ├──────░────────■────────░──────\n",
       "     ├───┤      ░ ┌───┐  │  ┌───┐ ░      \n",
       "q_2: ┤ H ├──────░─┤ X ├──■──┤ X ├─░──────\n",
       "     ├───┤┌───┐ ░ └───┘┌─┴─┐└───┘ ░ ┌───┐\n",
       "q_3: ┤ X ├┤ H ├─░──────┤ X ├──────░─┤ H ├\n",
       "     └───┘└───┘ ░      └───┘      ░ └───┘</pre>"
      ],
      "text/plain": [
       "     ┌───┐      ░ ┌───┐     ┌───┐ ░      \n",
       "q_0: ┤ H ├──────░─┤ X ├──■──┤ X ├─░──────\n",
       "     ├───┤      ░ └───┘  │  └───┘ ░      \n",
       "q_1: ┤ H ├──────░────────■────────░──────\n",
       "     ├───┤      ░ ┌───┐  │  ┌───┐ ░      \n",
       "q_2: ┤ H ├──────░─┤ X ├──■──┤ X ├─░──────\n",
       "     ├───┤┌───┐ ░ └───┘┌─┴─┐└───┘ ░ ┌───┐\n",
       "q_3: ┤ X ├┤ H ├─░──────┤ X ├──────░─┤ H ├\n",
       "     └───┘└───┘ ░      └───┘      ░ └───┘"
      ]
     },
     "execution_count": 99,
     "metadata": {},
     "output_type": "execute_result"
    }
   ],
   "source": [
    "import numpy as np\n",
    "from qiskit import QuantumCircuit\n",
    "from qiskit_aer import AerSimulator, Aer\n",
    "from qiskit.quantum_info import Statevector\n",
    "from qiskit.circuit.library import MCXGate\n",
    "from math import pi\n",
    "\n",
    "qc = QuantumCircuit(4)\n",
    "qc.h([0,1,2])\n",
    "qc.x(3)\n",
    "qc.h(3)\n",
    "qc.barrier()\n",
    "qc.x(0)\n",
    "qc.x(2)\n",
    "gate = MCXGate(3)\n",
    "qc.append(gate, [0, 1, 2, 3])\n",
    "qc.x(0)\n",
    "qc.x(2)\n",
    "qc.barrier()\n",
    "qc.h(3)\n",
    "qc.draw()"
   ]
  },
  {
   "attachments": {},
   "cell_type": "markdown",
   "metadata": {},
   "source": [
    "and we indicate the state vector"
   ]
  },
  {
   "cell_type": "code",
   "execution_count": 100,
   "metadata": {},
   "outputs": [
    {
     "data": {
      "text/latex": [
       "$$\n",
       "\\text{Statevector} = \n",
       "\\begin{bmatrix}\n",
       "0 & 0 & 0 & 0 & 0 & 0 & 0 & 0 & \\frac{\\sqrt{2}}{4} & \\frac{\\sqrt{2}}{4} & - \\frac{\\sqrt{2}}{4} & \\frac{\\sqrt{2}}{4} & \\frac{\\sqrt{2}}{4} & \\frac{\\sqrt{2}}{4} & \\frac{\\sqrt{2}}{4} & \\frac{\\sqrt{2}}{4}  \\\\\n",
       " \\end{bmatrix}\n",
       "$$"
      ],
      "text/plain": [
       "<IPython.core.display.Latex object>"
      ]
     },
     "execution_count": 100,
     "metadata": {},
     "output_type": "execute_result"
    }
   ],
   "source": [
    "simulator = Aer.get_backend('statevector_simulator')\n",
    "final_state = simulator.run(qc).result().get_statevector()\n",
    "\n",
    "from qiskit.visualization import array_to_latex\n",
    "array_to_latex(final_state,max_size=16,prefix=\"\\\\text{Statevector} = \")"
   ]
  },
  {
   "attachments": {},
   "cell_type": "markdown",
   "metadata": {},
   "source": [
    "indicating marking the state  $|010\\rangle$ by a minus sign and perform the Grover's amplification "
   ]
  },
  {
   "cell_type": "code",
   "execution_count": 101,
   "metadata": {},
   "outputs": [
    {
     "data": {
      "text/html": [
       "<pre style=\"word-wrap: normal;white-space: pre;background: #fff0;line-height: 1.1;font-family: &quot;Courier New&quot;,Courier,monospace\">     ┌───┐      ░ ┌───┐     ┌───┐ ░       ░ ┌───┐┌───┐┌───┐┌───┐┌───┐ ░ ┌───┐┌───┐┌────────┐\n",
       "q_0: ┤ H ├──────░─┤ X ├──■──┤ X ├─░───────░─┤ H ├┤ X ├┤ H ├┤ X ├┤ H ├─░─┤ X ├┤ H ├┤ Rz(2π) ├\n",
       "     ├───┤      ░ └───┘  │  └───┘ ░       ░ ├───┤├───┤└───┘└─┬─┘└───┘ ░ ├───┤├───┤├────────┤\n",
       "q_1: ┤ H ├──────░────────■────────░───────░─┤ H ├┤ X ├───────■────────░─┤ X ├┤ H ├┤ Rz(2π) ├\n",
       "     ├───┤      ░ ┌───┐  │  ┌───┐ ░       ░ ├───┤├───┤       │        ░ ├───┤├───┤├────────┤\n",
       "q_2: ┤ H ├──────░─┤ X ├──■──┤ X ├─░───────░─┤ H ├┤ X ├───────■────────░─┤ X ├┤ H ├┤ Rz(2π) ├\n",
       "     ├───┤┌───┐ ░ └───┘┌─┴─┐└───┘ ░ ┌───┐ ░ └───┘└───┘                ░ └───┘└───┘└────────┘\n",
       "q_3: ┤ X ├┤ H ├─░──────┤ X ├──────░─┤ H ├─░───────────────────────────░─────────────────────\n",
       "     └───┘└───┘ ░      └───┘      ░ └───┘ ░                           ░                     </pre>"
      ],
      "text/plain": [
       "     ┌───┐      ░ ┌───┐     ┌───┐ ░       ░ ┌───┐┌───┐┌───┐┌───┐┌───┐ ░ ┌───┐┌───┐┌────────┐\n",
       "q_0: ┤ H ├──────░─┤ X ├──■──┤ X ├─░───────░─┤ H ├┤ X ├┤ H ├┤ X ├┤ H ├─░─┤ X ├┤ H ├┤ Rz(2π) ├\n",
       "     ├───┤      ░ └───┘  │  └───┘ ░       ░ ├───┤├───┤└───┘└─┬─┘└───┘ ░ ├───┤├───┤├────────┤\n",
       "q_1: ┤ H ├──────░────────■────────░───────░─┤ H ├┤ X ├───────■────────░─┤ X ├┤ H ├┤ Rz(2π) ├\n",
       "     ├───┤      ░ ┌───┐  │  ┌───┐ ░       ░ ├───┤├───┤       │        ░ ├───┤├───┤├────────┤\n",
       "q_2: ┤ H ├──────░─┤ X ├──■──┤ X ├─░───────░─┤ H ├┤ X ├───────■────────░─┤ X ├┤ H ├┤ Rz(2π) ├\n",
       "     ├───┤┌───┐ ░ └───┘┌─┴─┐└───┘ ░ ┌───┐ ░ └───┘└───┘                ░ └───┘└───┘└────────┘\n",
       "q_3: ┤ X ├┤ H ├─░──────┤ X ├──────░─┤ H ├─░───────────────────────────░─────────────────────\n",
       "     └───┘└───┘ ░      └───┘      ░ └───┘ ░                           ░                     "
      ]
     },
     "execution_count": 101,
     "metadata": {},
     "output_type": "execute_result"
    }
   ],
   "source": [
    "qc = QuantumCircuit(4)\n",
    "qc.h([0,1,2])\n",
    "#Preparation of Aux\n",
    "qc.x(3)\n",
    "qc.h(3)\n",
    "#Oracle\n",
    "qc.barrier()\n",
    "qc.x(0)\n",
    "qc.x(2)\n",
    "gate = MCXGate(3)\n",
    "qc.append(gate, [0, 1, 2, 3])\n",
    "qc.x(0)\n",
    "qc.x(2)\n",
    "#Diffusor\n",
    "qc.barrier()\n",
    "qc.h(3)\n",
    "qc.barrier()\n",
    "qc.h([0,1,2])\n",
    "qc.x([0,1,2])\n",
    "qc.h(0)\n",
    "qc.ccx(1,2,0)\n",
    "qc.h(0)\n",
    "qc.barrier()\n",
    "qc.x([0,1,2])\n",
    "qc.h([0,1,2])\n",
    "#Corrrect the sign, not required...\n",
    "qc.rz(2*pi,0)\n",
    "qc.rz(2*pi,1)\n",
    "qc.rz(2*pi,2)\n",
    "\n",
    "\n",
    "qc.draw(fold=120)"
   ]
  },
  {
   "cell_type": "code",
   "execution_count": 102,
   "metadata": {},
   "outputs": [
    {
     "data": {
      "text/latex": [
       "$$\n",
       "\\text{Statevector} = \n",
       "\\begin{bmatrix}\n",
       "0 & 0 & 0 & 0 & 0 & 0 & 0 & 0 & 0.1768 & 0.1768 & 0.8839 & 0.1768 & 0.1768 & 0.1768 & 0.1768 & 0.1768  \\\\\n",
       " \\end{bmatrix}\n",
       "$$"
      ],
      "text/plain": [
       "<IPython.core.display.Latex object>"
      ]
     },
     "execution_count": 102,
     "metadata": {},
     "output_type": "execute_result"
    }
   ],
   "source": [
    "simulator = Aer.get_backend('statevector_simulator')\n",
    "final_state = simulator.run(qc).result().get_statevector()\n",
    "\n",
    "from qiskit.visualization import array_to_latex\n",
    "array_to_latex(final_state,max_size=16,precision=4,prefix=\"\\\\text{Statevector} = \")"
   ]
  },
  {
   "attachments": {},
   "cell_type": "markdown",
   "metadata": {},
   "source": [
    "In the next step we will perform two rotations  "
   ]
  },
  {
   "cell_type": "code",
   "execution_count": 103,
   "metadata": {},
   "outputs": [
    {
     "data": {
      "text/html": [
       "<pre style=\"word-wrap: normal;white-space: pre;background: #fff0;line-height: 1.1;font-family: &quot;Courier New&quot;,Courier,monospace\">     ┌───┐      ░ ┌───┐     ┌───┐ ░       ░ ┌───┐┌───┐┌───┐┌───┐┌───┐ ░ ┌───┐»\n",
       "q_0: ┤ H ├──────░─┤ X ├──■──┤ X ├─░───────░─┤ H ├┤ X ├┤ H ├┤ X ├┤ H ├─░─┤ X ├»\n",
       "     ├───┤      ░ └───┘  │  └───┘ ░       ░ ├───┤├───┤└───┘└─┬─┘└───┘ ░ ├───┤»\n",
       "q_1: ┤ H ├──────░────────■────────░───────░─┤ H ├┤ X ├───────■────────░─┤ X ├»\n",
       "     ├───┤      ░ ┌───┐  │  ┌───┐ ░       ░ ├───┤├───┤       │        ░ ├───┤»\n",
       "q_2: ┤ H ├──────░─┤ X ├──■──┤ X ├─░───────░─┤ H ├┤ X ├───────■────────░─┤ X ├»\n",
       "     ├───┤┌───┐ ░ └───┘┌─┴─┐└───┘ ░ ┌───┐ ░ └───┘└───┘                ░ ├───┤»\n",
       "q_3: ┤ X ├┤ H ├─░──────┤ X ├──────░─┤ H ├─░───────────────────────────░─┤ H ├»\n",
       "     └───┘└───┘ ░      └───┘      ░ └───┘ ░                           ░ └───┘»\n",
       "«     ┌───┐┌────────┐ ░ ┌───┐     ┌───┐ ░       ░ ┌───┐┌───┐┌───┐┌───┐┌───┐ ░ »\n",
       "«q_0: ┤ H ├┤ Rz(2π) ├─░─┤ X ├──■──┤ X ├─░───────░─┤ H ├┤ X ├┤ H ├┤ X ├┤ H ├─░─»\n",
       "«     ├───┤├────────┤ ░ └───┘  │  └───┘ ░       ░ ├───┤├───┤└───┘└─┬─┘└───┘ ░ »\n",
       "«q_1: ┤ H ├┤ Rz(2π) ├─░────────■────────░───────░─┤ H ├┤ X ├───────■────────░─»\n",
       "«     ├───┤├────────┤ ░ ┌───┐  │  ┌───┐ ░       ░ ├───┤├───┤       │        ░ »\n",
       "«q_2: ┤ H ├┤ Rz(2π) ├─░─┤ X ├──■──┤ X ├─░───────░─┤ H ├┤ X ├───────■────────░─»\n",
       "«     └───┘└────────┘ ░ └───┘┌─┴─┐└───┘ ░ ┌───┐ ░ └───┘└───┘                ░ »\n",
       "«q_3: ────────────────░──────┤ X ├──────░─┤ H ├─░───────────────────────────░─»\n",
       "«                     ░      └───┘      ░ └───┘ ░                           ░ »\n",
       "«     ┌───┐┌───┐┌────────┐\n",
       "«q_0: ┤ X ├┤ H ├┤ Rz(2π) ├\n",
       "«     ├───┤├───┤├────────┤\n",
       "«q_1: ┤ X ├┤ H ├┤ Rz(2π) ├\n",
       "«     ├───┤├───┤├────────┤\n",
       "«q_2: ┤ X ├┤ H ├┤ Rz(2π) ├\n",
       "«     └───┘└───┘└────────┘\n",
       "«q_3: ────────────────────\n",
       "«                         </pre>"
      ],
      "text/plain": [
       "     ┌───┐      ░ ┌───┐     ┌───┐ ░       ░ ┌───┐┌───┐┌───┐┌───┐┌───┐ ░ ┌───┐»\n",
       "q_0: ┤ H ├──────░─┤ X ├──■──┤ X ├─░───────░─┤ H ├┤ X ├┤ H ├┤ X ├┤ H ├─░─┤ X ├»\n",
       "     ├───┤      ░ └───┘  │  └───┘ ░       ░ ├───┤├───┤└───┘└─┬─┘└───┘ ░ ├───┤»\n",
       "q_1: ┤ H ├──────░────────■────────░───────░─┤ H ├┤ X ├───────■────────░─┤ X ├»\n",
       "     ├───┤      ░ ┌───┐  │  ┌───┐ ░       ░ ├───┤├───┤       │        ░ ├───┤»\n",
       "q_2: ┤ H ├──────░─┤ X ├──■──┤ X ├─░───────░─┤ H ├┤ X ├───────■────────░─┤ X ├»\n",
       "     ├───┤┌───┐ ░ └───┘┌─┴─┐└───┘ ░ ┌───┐ ░ └───┘└───┘                ░ ├───┤»\n",
       "q_3: ┤ X ├┤ H ├─░──────┤ X ├──────░─┤ H ├─░───────────────────────────░─┤ H ├»\n",
       "     └───┘└───┘ ░      └───┘      ░ └───┘ ░                           ░ └───┘»\n",
       "«     ┌───┐┌────────┐ ░ ┌───┐     ┌───┐ ░       ░ ┌───┐┌───┐┌───┐┌───┐┌───┐ ░ »\n",
       "«q_0: ┤ H ├┤ Rz(2π) ├─░─┤ X ├──■──┤ X ├─░───────░─┤ H ├┤ X ├┤ H ├┤ X ├┤ H ├─░─»\n",
       "«     ├───┤├────────┤ ░ └───┘  │  └───┘ ░       ░ ├───┤├───┤└───┘└─┬─┘└───┘ ░ »\n",
       "«q_1: ┤ H ├┤ Rz(2π) ├─░────────■────────░───────░─┤ H ├┤ X ├───────■────────░─»\n",
       "«     ├───┤├────────┤ ░ ┌───┐  │  ┌───┐ ░       ░ ├───┤├───┤       │        ░ »\n",
       "«q_2: ┤ H ├┤ Rz(2π) ├─░─┤ X ├──■──┤ X ├─░───────░─┤ H ├┤ X ├───────■────────░─»\n",
       "«     └───┘└────────┘ ░ └───┘┌─┴─┐└───┘ ░ ┌───┐ ░ └───┘└───┘                ░ »\n",
       "«q_3: ────────────────░──────┤ X ├──────░─┤ H ├─░───────────────────────────░─»\n",
       "«                     ░      └───┘      ░ └───┘ ░                           ░ »\n",
       "«     ┌───┐┌───┐┌────────┐\n",
       "«q_0: ┤ X ├┤ H ├┤ Rz(2π) ├\n",
       "«     ├───┤├───┤├────────┤\n",
       "«q_1: ┤ X ├┤ H ├┤ Rz(2π) ├\n",
       "«     ├───┤├───┤├────────┤\n",
       "«q_2: ┤ X ├┤ H ├┤ Rz(2π) ├\n",
       "«     └───┘└───┘└────────┘\n",
       "«q_3: ────────────────────\n",
       "«                         "
      ]
     },
     "execution_count": 103,
     "metadata": {},
     "output_type": "execute_result"
    }
   ],
   "source": [
    "qc = QuantumCircuit(4)\n",
    "qc.h([0,1,2])\n",
    "#Preparation of Aux\n",
    "qc.x(3)\n",
    "qc.h(3)\n",
    "#Oracle\n",
    "qc.barrier()\n",
    "qc.x(0)\n",
    "qc.x(2)\n",
    "gate = MCXGate(3)\n",
    "qc.append(gate, [0, 1, 2, 3])\n",
    "qc.x(0)\n",
    "qc.x(2)\n",
    "#Diffusor\n",
    "qc.barrier()\n",
    "qc.h(3)\n",
    "qc.barrier()\n",
    "qc.h([0,1,2])\n",
    "qc.x([0,1,2])\n",
    "qc.h(0)\n",
    "qc.ccx(1,2,0)\n",
    "qc.h(0)\n",
    "qc.barrier()\n",
    "qc.x([0,1,2])\n",
    "qc.h([0,1,2])\n",
    "#Corrrect the sign, not required...\n",
    "qc.rz(2*pi,0)\n",
    "qc.rz(2*pi,1)\n",
    "qc.rz(2*pi,2)\n",
    "\n",
    "qc.h(3)\n",
    "#Oracle\n",
    "qc.barrier()\n",
    "qc.x(0)\n",
    "qc.x(2)\n",
    "gate = MCXGate(3)\n",
    "qc.append(gate, [0, 1, 2, 3])\n",
    "qc.x(0)\n",
    "qc.x(2)\n",
    "#Diffusor\n",
    "qc.barrier()\n",
    "qc.h(3)\n",
    "qc.barrier()\n",
    "qc.h([0,1,2])\n",
    "qc.x([0,1,2])\n",
    "qc.h(0)\n",
    "qc.ccx(1,2,0)\n",
    "qc.h(0)\n",
    "qc.barrier()\n",
    "qc.x([0,1,2])\n",
    "qc.h([0,1,2])\n",
    "#Corrrect the sign, not required...\n",
    "qc.rz(2*pi,0)\n",
    "qc.rz(2*pi,1)\n",
    "qc.rz(2*pi,2)\n",
    "\n",
    "qc.draw()"
   ]
  },
  {
   "cell_type": "code",
   "execution_count": 104,
   "metadata": {},
   "outputs": [
    {
     "data": {
      "text/latex": [
       "$$\n",
       "\\text{Statevector} = \n",
       "\\begin{bmatrix}\n",
       "0 & 0 & 0 & 0 & 0 & 0 & 0 & 0 & -0.0884 & -0.0884 & 0.9723 & -0.0884 & -0.0884 & -0.0884 & -0.0884 & -0.0884  \\\\\n",
       " \\end{bmatrix}\n",
       "$$"
      ],
      "text/plain": [
       "<IPython.core.display.Latex object>"
      ]
     },
     "execution_count": 104,
     "metadata": {},
     "output_type": "execute_result"
    }
   ],
   "source": [
    "simulator = Aer.get_backend('statevector_simulator')\n",
    "final_state = simulator.run(qc).result().get_statevector()\n",
    "\n",
    "from qiskit.visualization import array_to_latex\n",
    "array_to_latex(final_state,max_size=16,precision=4,prefix=\"\\\\text{Statevector} = \")"
   ]
  },
  {
   "attachments": {},
   "cell_type": "markdown",
   "metadata": {},
   "source": [
    "In the next step we will perform two rotations using $qasm$ $simulator$. We do not minus sign operation to get the correct result, what changes is the minus sign of the amplitudes however this as no consequence for the resulting probabilities, so the Grover's amplification will be $ G_3=  H_3  \\cdot \\Lambda_3 \\cdot H_3 $"
   ]
  },
  {
   "cell_type": "code",
   "execution_count": 105,
   "metadata": {},
   "outputs": [
    {
     "data": {
      "text/html": [
       "<pre style=\"word-wrap: normal;white-space: pre;background: #fff0;line-height: 1.1;font-family: &quot;Courier New&quot;,Courier,monospace\">     ┌───┐      ░ ┌───┐     ┌───┐ ░       ░ ┌───┐┌───┐┌───┐┌───┐┌───┐┌───┐┌───┐ ░      »\n",
       "q_0: ┤ H ├──────░─┤ X ├──■──┤ X ├─░───────░─┤ H ├┤ X ├┤ H ├┤ X ├┤ H ├┤ X ├┤ H ├─░──────»\n",
       "     ├───┤      ░ └───┘  │  └───┘ ░       ░ ├───┤├───┤└───┘└─┬─┘├───┤├───┤└───┘ ░      »\n",
       "q_1: ┤ H ├──────░────────■────────░───────░─┤ H ├┤ X ├───────■──┤ X ├┤ H ├──────░──────»\n",
       "     ├───┤      ░ ┌───┐  │  ┌───┐ ░       ░ ├───┤├───┤       │  ├───┤├───┤      ░      »\n",
       "q_2: ┤ H ├──────░─┤ X ├──■──┤ X ├─░───────░─┤ H ├┤ X ├───────■──┤ X ├┤ H ├──────░──────»\n",
       "     ├───┤┌───┐ ░ └───┘┌─┴─┐└───┘ ░ ┌───┐ ░ └───┘└───┘          └───┘└───┘      ░ ┌───┐»\n",
       "q_3: ┤ X ├┤ H ├─░──────┤ X ├──────░─┤ H ├─░─────────────────────────────────────░─┤ H ├»\n",
       "     └───┘└───┘ ░      └───┘      ░ └───┘ ░                                     ░ └───┘»\n",
       "c: 3/══════════════════════════════════════════════════════════════════════════════════»\n",
       "                                                                                       »\n",
       "«      ░ ┌───┐     ┌───┐ ░       ░ ┌───┐┌───┐┌───┐┌───┐┌───┐┌───┐┌───┐ ░ ┌─┐      \n",
       "«q_0: ─░─┤ X ├──■──┤ X ├─░───────░─┤ H ├┤ X ├┤ H ├┤ X ├┤ H ├┤ X ├┤ H ├─░─┤M├──────\n",
       "«      ░ └───┘  │  └───┘ ░       ░ ├───┤├───┤└───┘└─┬─┘├───┤├───┤└───┘ ░ └╥┘┌─┐   \n",
       "«q_1: ─░────────■────────░───────░─┤ H ├┤ X ├───────■──┤ X ├┤ H ├──────░──╫─┤M├───\n",
       "«      ░ ┌───┐  │  ┌───┐ ░       ░ ├───┤├───┤       │  ├───┤├───┤      ░  ║ └╥┘┌─┐\n",
       "«q_2: ─░─┤ X ├──■──┤ X ├─░───────░─┤ H ├┤ X ├───────■──┤ X ├┤ H ├──────░──╫──╫─┤M├\n",
       "«      ░ └───┘┌─┴─┐└───┘ ░ ┌───┐ ░ └───┘└───┘          └───┘└───┘      ░  ║  ║ └╥┘\n",
       "«q_3: ─░──────┤ X ├──────░─┤ H ├─░─────────────────────────────────────░──╫──╫──╫─\n",
       "«      ░      └───┘      ░ └───┘ ░                                     ░  ║  ║  ║ \n",
       "«c: 3/════════════════════════════════════════════════════════════════════╩══╩══╩═\n",
       "«                                                                         0  1  2 </pre>"
      ],
      "text/plain": [
       "     ┌───┐      ░ ┌───┐     ┌───┐ ░       ░ ┌───┐┌───┐┌───┐┌───┐┌───┐┌───┐┌───┐ ░      »\n",
       "q_0: ┤ H ├──────░─┤ X ├──■──┤ X ├─░───────░─┤ H ├┤ X ├┤ H ├┤ X ├┤ H ├┤ X ├┤ H ├─░──────»\n",
       "     ├───┤      ░ └───┘  │  └───┘ ░       ░ ├───┤├───┤└───┘└─┬─┘├───┤├───┤└───┘ ░      »\n",
       "q_1: ┤ H ├──────░────────■────────░───────░─┤ H ├┤ X ├───────■──┤ X ├┤ H ├──────░──────»\n",
       "     ├───┤      ░ ┌───┐  │  ┌───┐ ░       ░ ├───┤├───┤       │  ├───┤├───┤      ░      »\n",
       "q_2: ┤ H ├──────░─┤ X ├──■──┤ X ├─░───────░─┤ H ├┤ X ├───────■──┤ X ├┤ H ├──────░──────»\n",
       "     ├───┤┌───┐ ░ └───┘┌─┴─┐└───┘ ░ ┌───┐ ░ └───┘└───┘          └───┘└───┘      ░ ┌───┐»\n",
       "q_3: ┤ X ├┤ H ├─░──────┤ X ├──────░─┤ H ├─░─────────────────────────────────────░─┤ H ├»\n",
       "     └───┘└───┘ ░      └───┘      ░ └───┘ ░                                     ░ └───┘»\n",
       "c: 3/══════════════════════════════════════════════════════════════════════════════════»\n",
       "                                                                                       »\n",
       "«      ░ ┌───┐     ┌───┐ ░       ░ ┌───┐┌───┐┌───┐┌───┐┌───┐┌───┐┌───┐ ░ ┌─┐      \n",
       "«q_0: ─░─┤ X ├──■──┤ X ├─░───────░─┤ H ├┤ X ├┤ H ├┤ X ├┤ H ├┤ X ├┤ H ├─░─┤M├──────\n",
       "«      ░ └───┘  │  └───┘ ░       ░ ├───┤├───┤└───┘└─┬─┘├───┤├───┤└───┘ ░ └╥┘┌─┐   \n",
       "«q_1: ─░────────■────────░───────░─┤ H ├┤ X ├───────■──┤ X ├┤ H ├──────░──╫─┤M├───\n",
       "«      ░ ┌───┐  │  ┌───┐ ░       ░ ├───┤├───┤       │  ├───┤├───┤      ░  ║ └╥┘┌─┐\n",
       "«q_2: ─░─┤ X ├──■──┤ X ├─░───────░─┤ H ├┤ X ├───────■──┤ X ├┤ H ├──────░──╫──╫─┤M├\n",
       "«      ░ └───┘┌─┴─┐└───┘ ░ ┌───┐ ░ └───┘└───┘          └───┘└───┘      ░  ║  ║ └╥┘\n",
       "«q_3: ─░──────┤ X ├──────░─┤ H ├─░─────────────────────────────────────░──╫──╫──╫─\n",
       "«      ░      └───┘      ░ └───┘ ░                                     ░  ║  ║  ║ \n",
       "«c: 3/════════════════════════════════════════════════════════════════════╩══╩══╩═\n",
       "«                                                                         0  1  2 "
      ]
     },
     "execution_count": 105,
     "metadata": {},
     "output_type": "execute_result"
    }
   ],
   "source": [
    "qc = QuantumCircuit(4,3)\n",
    "qc.h([0,1,2])\n",
    "#Preparation of Aux\n",
    "qc.x(3)\n",
    "qc.h(3)\n",
    "#Oracle\n",
    "qc.barrier()\n",
    "qc.x(0)\n",
    "qc.x(2)\n",
    "gate = MCXGate(3)\n",
    "qc.append(gate, [0, 1, 2, 3])\n",
    "qc.x(0)\n",
    "qc.x(2)\n",
    "#Diffusor\n",
    "qc.barrier()\n",
    "qc.h(3)\n",
    "qc.barrier()\n",
    "qc.h([0,1,2])\n",
    "qc.x([0,1,2])\n",
    "qc.h(0)\n",
    "qc.ccx(1,2,0)\n",
    "qc.h(0)\n",
    "qc.x([0,1,2])\n",
    "qc.h([0,1,2])\n",
    "qc.barrier()\n",
    "qc.h(3)\n",
    "#Oracle\n",
    "qc.barrier()\n",
    "qc.x(0)\n",
    "qc.x(2)\n",
    "gate = MCXGate(3)\n",
    "qc.append(gate, [0, 1, 2, 3])\n",
    "qc.x(0)\n",
    "qc.x(2)\n",
    "qc.barrier()\n",
    "qc.h(3)\n",
    "\n",
    "#Diffusor\n",
    "\n",
    "qc.barrier()\n",
    "qc.h([0,1,2])\n",
    "qc.x([0,1,2])\n",
    "qc.h(0)\n",
    "qc.ccx(1,2,0)\n",
    "qc.h(0)\n",
    "qc.x([0,1,2])\n",
    "qc.h([0,1,2])\n",
    "\n",
    "qc.barrier()\n",
    "qc.measure(0,0)\n",
    "qc.measure(1,1)\n",
    "qc.measure(2,2)\n",
    "\n",
    "qc.draw(fold=90)"
   ]
  },
  {
   "cell_type": "code",
   "execution_count": 106,
   "metadata": {},
   "outputs": [
    {
     "name": "stdout",
     "output_type": "stream",
     "text": [
      "\n",
      "Total count are: {'011': 6, '111': 6, '100': 7, '001': 13, '110': 10, '101': 12, '000': 4, '010': 942}\n"
     ]
    },
    {
     "data": {
      "image/png": "[encoded data removed]",
      "text/plain": [
       "<Figure size 700x500 with 1 Axes>"
      ]
     },
     "execution_count": 106,
     "metadata": {},
     "output_type": "execute_result"
    }
   ],
   "source": [
    "simulator = Aer.get_backend('qasm_simulator')\n",
    "result=simulator.run(qc,shots=1000).result()\n",
    "counts = result.get_counts()\n",
    "print(\"\\nTotal count are:\",counts)\n",
    "plot_histogram(counts)"
   ]
  },
  {
   "attachments": {},
   "cell_type": "markdown",
   "metadata": {},
   "source": [
    "# Un-Computation\n",
    "\n",
    "In quantum computation, it is not possible to reset the information to the pattern representing the initial state. Instead, we un-compute the output back to the input. In our oracle \n",
    "\\begin{equation}\n",
    "T=  (X\\otimes  I \\otimes X \\otimes I) \\cdot  MCX  \\cdot  (X \\otimes I \\otimes X \\otimes I)\n",
    "\\end{equation} \n",
    "the un-computation is represented by the operations $(X\\otimes  I \\otimes X \\otimes I) $. We may ask what would happen if we do not un-compute and define our oracle simply as\n",
    "\\begin{equation}\n",
    "T=  MCX  \\cdot  (X \\otimes I \\otimes X \\otimes I).\n",
    "\\end{equation} \n"
   ]
  },
  {
   "cell_type": "code",
   "execution_count": 107,
   "metadata": {},
   "outputs": [
    {
     "data": {
      "text/html": [
       "<pre style=\"word-wrap: normal;white-space: pre;background: #fff0;line-height: 1.1;font-family: &quot;Courier New&quot;,Courier,monospace\">     ┌───┐      ░ ┌───┐      ░      \n",
       "q_0: ┤ H ├──────░─┤ X ├──■───░──────\n",
       "     ├───┤      ░ └───┘  │   ░      \n",
       "q_1: ┤ H ├──────░────────■───░──────\n",
       "     ├───┤      ░ ┌───┐  │   ░      \n",
       "q_2: ┤ H ├──────░─┤ X ├──■───░──────\n",
       "     ├───┤┌───┐ ░ └───┘┌─┴─┐ ░ ┌───┐\n",
       "q_3: ┤ X ├┤ H ├─░──────┤ X ├─░─┤ H ├\n",
       "     └───┘└───┘ ░      └───┘ ░ └───┘</pre>"
      ],
      "text/plain": [
       "     ┌───┐      ░ ┌───┐      ░      \n",
       "q_0: ┤ H ├──────░─┤ X ├──■───░──────\n",
       "     ├───┤      ░ └───┘  │   ░      \n",
       "q_1: ┤ H ├──────░────────■───░──────\n",
       "     ├───┤      ░ ┌───┐  │   ░      \n",
       "q_2: ┤ H ├──────░─┤ X ├──■───░──────\n",
       "     ├───┤┌───┐ ░ └───┘┌─┴─┐ ░ ┌───┐\n",
       "q_3: ┤ X ├┤ H ├─░──────┤ X ├─░─┤ H ├\n",
       "     └───┘└───┘ ░      └───┘ ░ └───┘"
      ]
     },
     "execution_count": 107,
     "metadata": {},
     "output_type": "execute_result"
    }
   ],
   "source": [
    "qc = QuantumCircuit(4)\n",
    "qc.h([0,1,2])\n",
    "qc.x(3)\n",
    "qc.h(3)\n",
    "qc.barrier()\n",
    "qc.x(0)\n",
    "qc.x(2)\n",
    "gate = MCXGate(3)\n",
    "qc.append(gate, [0, 1, 2, 3])\n",
    "#No un-computation\n",
    "#qc.x(0)\n",
    "#qc.x(2)\n",
    "qc.barrier()\n",
    "qc.h(3)\n",
    "qc.draw()"
   ]
  },
  {
   "attachments": {},
   "cell_type": "markdown",
   "metadata": {},
   "source": [
    "In this case the other remaining qubits become entangled and we cannot apply Grover's amplification correctly to the three qubits $0$, $1$ and $2$."
   ]
  },
  {
   "cell_type": "code",
   "execution_count": 108,
   "metadata": {},
   "outputs": [
    {
     "data": {
      "text/html": [
       "<pre style=\"word-wrap: normal;white-space: pre;background: #fff0;line-height: 1.1;font-family: &quot;Courier New&quot;,Courier,monospace\">     ┌───┐      ░ ┌───┐      ░       ░ ┌───┐┌───┐┌───┐┌───┐┌───┐┌───┐┌───┐ ░       ░ »\n",
       "q_0: ┤ H ├──────░─┤ X ├──■───░───────░─┤ H ├┤ X ├┤ H ├┤ X ├┤ H ├┤ X ├┤ H ├─░───────░─»\n",
       "     ├───┤      ░ └───┘  │   ░       ░ ├───┤├───┤└───┘└─┬─┘├───┤├───┤└───┘ ░       ░ »\n",
       "q_1: ┤ H ├──────░────────■───░───────░─┤ H ├┤ X ├───────■──┤ X ├┤ H ├──────░───────░─»\n",
       "     ├───┤      ░ ┌───┐  │   ░       ░ ├───┤├───┤       │  ├───┤├───┤      ░       ░ »\n",
       "q_2: ┤ H ├──────░─┤ X ├──■───░───────░─┤ H ├┤ X ├───────■──┤ X ├┤ H ├──────░───────░─»\n",
       "     ├───┤┌───┐ ░ └───┘┌─┴─┐ ░ ┌───┐ ░ └───┘└───┘          └───┘└───┘      ░ ┌───┐ ░ »\n",
       "q_3: ┤ X ├┤ H ├─░──────┤ X ├─░─┤ H ├─░─────────────────────────────────────░─┤ H ├─░─»\n",
       "     └───┘└───┘ ░      └───┘ ░ └───┘ ░                                     ░ └───┘ ░ »\n",
       "c: 3/════════════════════════════════════════════════════════════════════════════════»\n",
       "                                                                                     »\n",
       "«     ┌───┐      ░       ░ ┌───┐┌───┐┌───┐┌───┐┌───┐┌───┐┌───┐ ░ ┌─┐      \n",
       "«q_0: ┤ X ├──■───░───────░─┤ H ├┤ X ├┤ H ├┤ X ├┤ H ├┤ X ├┤ H ├─░─┤M├──────\n",
       "«     └───┘  │   ░       ░ ├───┤├───┤└───┘└─┬─┘├───┤├───┤└───┘ ░ └╥┘┌─┐   \n",
       "«q_1: ───────■───░───────░─┤ H ├┤ X ├───────■──┤ X ├┤ H ├──────░──╫─┤M├───\n",
       "«     ┌───┐  │   ░       ░ ├───┤├───┤       │  ├───┤├───┤      ░  ║ └╥┘┌─┐\n",
       "«q_2: ┤ X ├──■───░───────░─┤ H ├┤ X ├───────■──┤ X ├┤ H ├──────░──╫──╫─┤M├\n",
       "«     └───┘┌─┴─┐ ░ ┌───┐ ░ └───┘└───┘          └───┘└───┘      ░  ║  ║ └╥┘\n",
       "«q_3: ─────┤ X ├─░─┤ H ├─░─────────────────────────────────────░──╫──╫──╫─\n",
       "«          └───┘ ░ └───┘ ░                                     ░  ║  ║  ║ \n",
       "«c: 3/════════════════════════════════════════════════════════════╩══╩══╩═\n",
       "«                                                                 0  1  2 </pre>"
      ],
      "text/plain": [
       "     ┌───┐      ░ ┌───┐      ░       ░ ┌───┐┌───┐┌───┐┌───┐┌───┐┌───┐┌───┐ ░       ░ »\n",
       "q_0: ┤ H ├──────░─┤ X ├──■───░───────░─┤ H ├┤ X ├┤ H ├┤ X ├┤ H ├┤ X ├┤ H ├─░───────░─»\n",
       "     ├───┤      ░ └───┘  │   ░       ░ ├───┤├───┤└───┘└─┬─┘├───┤├───┤└───┘ ░       ░ »\n",
       "q_1: ┤ H ├──────░────────■───░───────░─┤ H ├┤ X ├───────■──┤ X ├┤ H ├──────░───────░─»\n",
       "     ├───┤      ░ ┌───┐  │   ░       ░ ├───┤├───┤       │  ├───┤├───┤      ░       ░ »\n",
       "q_2: ┤ H ├──────░─┤ X ├──■───░───────░─┤ H ├┤ X ├───────■──┤ X ├┤ H ├──────░───────░─»\n",
       "     ├───┤┌───┐ ░ └───┘┌─┴─┐ ░ ┌───┐ ░ └───┘└───┘          └───┘└───┘      ░ ┌───┐ ░ »\n",
       "q_3: ┤ X ├┤ H ├─░──────┤ X ├─░─┤ H ├─░─────────────────────────────────────░─┤ H ├─░─»\n",
       "     └───┘└───┘ ░      └───┘ ░ └───┘ ░                                     ░ └───┘ ░ »\n",
       "c: 3/════════════════════════════════════════════════════════════════════════════════»\n",
       "                                                                                     »\n",
       "«     ┌───┐      ░       ░ ┌───┐┌───┐┌───┐┌───┐┌───┐┌───┐┌───┐ ░ ┌─┐      \n",
       "«q_0: ┤ X ├──■───░───────░─┤ H ├┤ X ├┤ H ├┤ X ├┤ H ├┤ X ├┤ H ├─░─┤M├──────\n",
       "«     └───┘  │   ░       ░ ├───┤├───┤└───┘└─┬─┘├───┤├───┤└───┘ ░ └╥┘┌─┐   \n",
       "«q_1: ───────■───░───────░─┤ H ├┤ X ├───────■──┤ X ├┤ H ├──────░──╫─┤M├───\n",
       "«     ┌───┐  │   ░       ░ ├───┤├───┤       │  ├───┤├───┤      ░  ║ └╥┘┌─┐\n",
       "«q_2: ┤ X ├──■───░───────░─┤ H ├┤ X ├───────■──┤ X ├┤ H ├──────░──╫──╫─┤M├\n",
       "«     └───┘┌─┴─┐ ░ ┌───┐ ░ └───┘└───┘          └───┘└───┘      ░  ║  ║ └╥┘\n",
       "«q_3: ─────┤ X ├─░─┤ H ├─░─────────────────────────────────────░──╫──╫──╫─\n",
       "«          └───┘ ░ └───┘ ░                                     ░  ║  ║  ║ \n",
       "«c: 3/════════════════════════════════════════════════════════════╩══╩══╩═\n",
       "«                                                                 0  1  2 "
      ]
     },
     "execution_count": 108,
     "metadata": {},
     "output_type": "execute_result"
    }
   ],
   "source": [
    "qc = QuantumCircuit(4,3)\n",
    "qc.h([0,1,2])\n",
    "#Preparation of Aux\n",
    "qc.x(3)\n",
    "qc.h(3)\n",
    "#Oracle\n",
    "qc.barrier()\n",
    "qc.x(0)\n",
    "qc.x(2)\n",
    "gate = MCXGate(3)\n",
    "qc.append(gate, [0, 1, 2, 3])\n",
    "#qc.x(0)\n",
    "#qc.x(2)\n",
    "#Diffusor\n",
    "qc.barrier()\n",
    "qc.h(3)\n",
    "qc.barrier()\n",
    "qc.h([0,1,2])\n",
    "qc.x([0,1,2])\n",
    "qc.h(0)\n",
    "qc.ccx(1,2,0)\n",
    "qc.h(0)\n",
    "qc.x([0,1,2])\n",
    "qc.h([0,1,2])\n",
    "qc.barrier()\n",
    "qc.h(3)\n",
    "#Oracle\n",
    "qc.barrier()\n",
    "qc.x(0)\n",
    "qc.x(2)\n",
    "gate = MCXGate(3)\n",
    "qc.append(gate, [0, 1, 2, 3])\n",
    "#qc.x(0)\n",
    "#qc.x(2)\n",
    "qc.barrier()\n",
    "qc.h(3)\n",
    "#Diffusor\n",
    "qc.barrier()\n",
    "qc.h([0,1,2])\n",
    "qc.x([0,1,2])\n",
    "qc.h(0)\n",
    "qc.ccx(1,2,0)\n",
    "qc.h(0)\n",
    "qc.x([0,1,2])\n",
    "qc.h([0,1,2])\n",
    "\n",
    "qc.barrier()\n",
    "qc.measure(0,0)\n",
    "qc.measure(1,1)\n",
    "qc.measure(2,2)\n",
    "\n",
    "qc.draw(fold=90)"
   ]
  },
  {
   "attachments": {},
   "cell_type": "markdown",
   "metadata": {},
   "source": [
    "The resulting histogram of cost does not indicate the correct solution"
   ]
  },
  {
   "cell_type": "code",
   "execution_count": 109,
   "metadata": {},
   "outputs": [
    {
     "name": "stdout",
     "output_type": "stream",
     "text": [
      "\n",
      "Total count are: {'001': 68, '110': 63, '100': 75, '011': 69, '111': 399, '000': 72, '010': 194, '101': 60}\n"
     ]
    },
    {
     "data": {
      "image/png": "[encoded data removed]",
      "text/plain": [
       "<Figure size 700x500 with 1 Axes>"
      ]
     },
     "execution_count": 109,
     "metadata": {},
     "output_type": "execute_result"
    }
   ],
   "source": [
    "simulator = Aer.get_backend('qasm_simulator')\n",
    "result=simulator.run(qc,shots=1000).result()\n",
    "counts = result.get_counts()\n",
    "print(\"\\nTotal count are:\",counts)\n",
    "plot_histogram(counts)"
   ]
  },
  {
   "attachments": {},
   "cell_type": "markdown",
   "metadata": {},
   "source": [
    "We have to un-compute the information to the pattern representing the initial state before applying the Grover's algorithm."
   ]
  }
 ],
 "metadata": {
  "kernelspec": {
   "display_name": "Python 3.9.12 ('base')",
   "language": "python",
   "name": "python3"
  },
  "language_info": {
   "codemirror_mode": {
    "name": "ipython",
    "version": 3
   },
   "file_extension": ".py",
   "mimetype": "text/x-python",
   "name": "python",
   "nbconvert_exporter": "python",
   "pygments_lexer": "ipython3",
   "version": "3.12.2"
  },
  "orig_nbformat": 4,
  "vscode": {
   "interpreter": {
    "hash": "a40b8e547555cf322d8dbe5dc02c3dbbc11894449d38bc5e08eee2ca5ff26fce"
   }
  }
 },
 "nbformat": 4,
 "nbformat_minor": 2
}
