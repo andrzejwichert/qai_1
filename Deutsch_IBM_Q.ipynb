{
 "cells": [
  {
   "cell_type": "markdown",
   "metadata": {},
   "source": [
    "### Qiskit 1.0 (0.46)"
   ]
  },
  {
   "cell_type": "code",
   "execution_count": 7,
   "metadata": {},
   "outputs": [],
   "source": [
    "from qiskit import QuantumCircuit\n",
    "from qiskit.visualization import plot_histogram\n",
    "from qiskit.visualization import plot_distribution"
   ]
  },
  {
   "cell_type": "code",
   "execution_count": 8,
   "metadata": {},
   "outputs": [
    {
     "data": {
      "text/html": [
       "<pre style=\"word-wrap: normal;white-space: pre;background: #fff0;line-height: 1.1;font-family: &quot;Courier New&quot;,Courier,monospace\">     ┌───┐ ░ ┌───┐┌───┐ ░         \n",
       "q_0: ┤ X ├─░─┤ H ├┤ X ├─░─────────\n",
       "     └───┘ ░ ├───┤└─┬─┘ ░ ┌───┐┌─┐\n",
       "q_1: ──────░─┤ H ├──■───░─┤ H ├┤M├\n",
       "           ░ └───┘      ░ └───┘└╥┘\n",
       "c: 1/═══════════════════════════╩═\n",
       "                                0 </pre>"
      ],
      "text/plain": [
       "     ┌───┐ ░ ┌───┐┌───┐ ░         \n",
       "q_0: ┤ X ├─░─┤ H ├┤ X ├─░─────────\n",
       "     └───┘ ░ ├───┤└─┬─┘ ░ ┌───┐┌─┐\n",
       "q_1: ──────░─┤ H ├──■───░─┤ H ├┤M├\n",
       "           ░ └───┘      ░ └───┘└╥┘\n",
       "c: 1/═══════════════════════════╩═\n",
       "                                0 "
      ]
     },
     "execution_count": 8,
     "metadata": {},
     "output_type": "execute_result"
    }
   ],
   "source": [
    "qc = QuantumCircuit(2,1)\n",
    "\n",
    "qc.x(0)\n",
    "qc.barrier()\n",
    "qc.h(0)\n",
    "qc.h(1)\n",
    "#identity function f(x)=x\n",
    "qc.cx(1,0)\n",
    "qc.barrier()\n",
    "qc.h(1) \n",
    "qc.measure(1,0)\n",
    "\n",
    "qc.draw()"
   ]
  },
  {
   "attachments": {},
   "cell_type": "markdown",
   "metadata": {},
   "source": [
    "The following code loads the account and specifies the least busy computer.\n",
    "\n",
    "Real hardware devices need to be recalibrated regularly, and the fidelity of a specific qubit or gate can change over time. Furthermore, different chips have different qubit connectivity. If we try to run a circuit that performs a two-qubit gate between two qubits that are not connected on the specified device, the transpiler will add SWAP gates. Therefore it is good practice to check with the IBM Quantum Experience webpage before running"
   ]
  },
  {
   "cell_type": "code",
   "execution_count": 9,
   "metadata": {},
   "outputs": [
    {
     "name": "stdout",
     "output_type": "stream",
     "text": [
      "least busy backend:  <IBMBackend('ibm_kyoto')>\n"
     ]
    }
   ],
   "source": [
    "from qiskit_ibm_provider import IBMProvider, least_busy\n",
    "from qiskit_ibm_runtime import QiskitRuntimeService, Sampler, Batch\n",
    "\n",
    "\n",
    "service = QiskitRuntimeService(channel=\"ibm_quantum\")\n",
    "backend = service.least_busy(operational=True, simulator=False)\n",
    "\n",
    "print(\"least busy backend: \", backend)\n"
   ]
  },
  {
   "cell_type": "code",
   "execution_count": 10,
   "metadata": {},
   "outputs": [
    {
     "data": {
      "text/html": [
       "<pre style=\"word-wrap: normal;white-space: pre;background: #fff0;line-height: 1.1;font-family: &quot;Courier New&quot;,Courier,monospace\">global phase: π/2\n",
       "         ┌───┐ ░    ┌────┐  ┌─────────┐┌──────┐      ░                                \n",
       "q_0 -> 0 ┤ X ├─░────┤ √X ├──┤ Rz(π/2) ├┤1     ├──────░────────────────────────────────\n",
       "         └───┘ ░ ┌──┴────┴─┐└──┬────┬─┘│  Ecr │┌───┐ ░ ┌─────────┐┌────┐┌─────────┐┌─┐\n",
       "q_1 -> 1 ──────░─┤ Rz(π/2) ├───┤ √X ├──┤0     ├┤ X ├─░─┤ Rz(π/2) ├┤ √X ├┤ Rz(π/2) ├┤M├\n",
       "               ░ └─────────┘   └────┘  └──────┘└───┘ ░ └─────────┘└────┘└─────────┘└╥┘\n",
       "    c: 1/═══════════════════════════════════════════════════════════════════════════╩═\n",
       "                                                                                    0 </pre>"
      ],
      "text/plain": [
       "global phase: π/2\n",
       "         ┌───┐ ░    ┌────┐  ┌─────────┐┌──────┐      ░                                \n",
       "q_0 -> 0 ┤ X ├─░────┤ √X ├──┤ Rz(π/2) ├┤1     ├──────░────────────────────────────────\n",
       "         └───┘ ░ ┌──┴────┴─┐└──┬────┬─┘│  Ecr │┌───┐ ░ ┌─────────┐┌────┐┌─────────┐┌─┐\n",
       "q_1 -> 1 ──────░─┤ Rz(π/2) ├───┤ √X ├──┤0     ├┤ X ├─░─┤ Rz(π/2) ├┤ √X ├┤ Rz(π/2) ├┤M├\n",
       "               ░ └─────────┘   └────┘  └──────┘└───┘ ░ └─────────┘└────┘└─────────┘└╥┘\n",
       "    c: 1/═══════════════════════════════════════════════════════════════════════════╩═\n",
       "                                                                                    0 "
      ]
     },
     "execution_count": 10,
     "metadata": {},
     "output_type": "execute_result"
    }
   ],
   "source": [
    "from qiskit.transpiler.preset_passmanagers import generate_preset_pass_manager\n",
    "\n",
    "target = backend.target\n",
    "pm = generate_preset_pass_manager(target=target, optimization_level=1)\n",
    "\n",
    "circuit_ibm = pm.run(qc)\n",
    "circuit_ibm.draw(idle_wires=False,fold=200)"
   ]
  },
  {
   "cell_type": "code",
   "execution_count": null,
   "metadata": {},
   "outputs": [],
   "source": [
    "# To run on local simulator:\n",
    "#   1. Use the Sampler from qiskit.primitives instead\n",
    "#   2. Remove the Batch context manager below\n",
    "\n",
    "with Batch(backend=backend) as batch:\n",
    "    sampler = Sampler()\n",
    "    dist = sampler.run(circuit_ibm, skip_transpilation=True, shots=10000).result().quasi_dists[0]"
   ]
  },
  {
   "cell_type": "code",
   "execution_count": null,
   "metadata": {},
   "outputs": [
    {
     "data": {
      "image/png": "[encoded data removed]",
      "text/plain": [
       "<Figure size 700x500 with 1 Axes>"
      ]
     },
     "execution_count": 5,
     "metadata": {},
     "output_type": "execute_result"
    }
   ],
   "source": [
    "# Get the results from the computation\n",
    "plot_distribution(dist.binary_probabilities())"
   ]
  }
 ],
 "metadata": {
  "kernelspec": {
   "display_name": "Python 3.9.12 ('base')",
   "language": "python",
   "name": "python3"
  },
  "language_info": {
   "codemirror_mode": {
    "name": "ipython",
    "version": 3
   },
   "file_extension": ".py",
   "mimetype": "text/x-python",
   "name": "python",
   "nbconvert_exporter": "python",
   "pygments_lexer": "ipython3",
   "version": "3.12.2"
  },
  "orig_nbformat": 4,
  "vscode": {
   "interpreter": {
    "hash": "a40b8e547555cf322d8dbe5dc02c3dbbc11894449d38bc5e08eee2ca5ff26fce"
   }
  }
 },
 "nbformat": 4,
 "nbformat_minor": 2
}
