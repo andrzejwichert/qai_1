{
 "cells": [
  {
   "cell_type": "markdown",
   "metadata": {},
   "source": [
    "# Chapter 20:  Phase Estimation\n",
    "### Qiskit 1.0 (0.46)\n",
    "\n",
    "## Example with $T$ Gate\n",
    "\n",
    "The  $T$ gate corresponds to the unitary matrix\n",
    "\\begin{equation}\n",
    "\n",
    "T= \\left( \\begin{array}{cc} \n",
    " 1 & 0\\\\\n",
    " 0   &   e^{i \\frac{\\pi}{4}}  \\\\\n",
    " \\end{array} \\right).\n",
    "\\end{equation}\n",
    "\n",
    " With the eigenvector $|1 \\rangle$ and the eigenvalue $ e^{ 2\\cdot \\pi \\cdot i \\cdot \\theta}$\n",
    "\n",
    "\\begin{equation}\n",
    "U \\cdot|u \\rangle = T \\cdot|1 \\rangle =e^{ 2\\cdot \\pi \\cdot i \\cdot \\theta} \\cdot |u \\rangle=e^{ 2\\cdot \\pi \\cdot i \\cdot \\theta} \\cdot |1 \\rangle\n",
    "\\end{equation}\n",
    "\n",
    "with the phase is $\\theta= \\frac{1}{8}$ since\n",
    "\n",
    "\\begin{equation}\n",
    "  T | 1 \\rangle = e^{ 2\\cdot \\pi \\cdot i \\cdot \\theta} = e^{i \\frac{\\pi}{4}} \\cdot |1 \\rangle  = e^{2 \\cdot i \\frac{\\pi}{8}} \\cdot |1 \\rangle.   \n",
    "\\end{equation}\n",
    "\n",
    "The phase estimation algorithm will write the phase of $T$  to the  $m$ qubits in the control register.  The value of $m$ determines the precision of the result.\n",
    "In our simple case $m=3$ \n",
    "\n",
    "\\begin{equation}\n",
    "\\theta= 0. x_3 x_2x_1=\\frac{x}{8}=\\frac{x}{2^3}.\n",
    "\\end{equation}\n",
    "\n",
    "The controlled $T$ gate is represented by the  controlled phase gate  $CP(\\lambda)$ with  $\\lambda=\\pi/4$.\n",
    "The circuit is composed of $4$ qubits, qubits $0$, $1$, $2$ represent the  $3$ qubits in the control register. The qubit $3$ represents the eigenvector  $|1 \\rangle$.\n",
    "The control register is mapped into superposition by Hadamard gates and the qubit  $4$ is initialized to the  eigenvector  $|1 \\rangle$ with the NOT gate.\n",
    "The control register controls the unitary operations $T$ applied to the target  eigenvector   $|1 \\rangle$ resulting in the Fourier basis representation of the three control qubits. To estimate the phase $\\theta$ we perform the inverse QFT  to the $3$ control qubits and measure the three quits  and estimate $\\theta$ with \n",
    "\n",
    "\\begin{equation}\n",
    "x=| q_2q_1q_0 \\rangle\n",
    "\\end{equation}\n",
    "\n",
    "and\n",
    "\n",
    "\\begin{equation}\n",
    "\\theta= \\frac{x}{2^3}.\n",
    "\\end{equation}\n",
    "\n",
    "The circuit is represented as"
   ]
  },
  {
   "cell_type": "code",
   "execution_count": 17,
   "metadata": {},
   "outputs": [],
   "source": [
    "import numpy as np\n",
    "from qiskit import QuantumCircuit\n",
    "from qiskit_aer import Aer\n",
    "from qiskit.quantum_info import Statevector\n",
    "from qiskit.visualization import plot_histogram\n",
    "from qiskit.visualization import plot_distribution \n",
    "from qiskit.circuit.library import MCXGate\n",
    "from math import pi\n",
    "from qiskit.circuit.library import QFT"
   ]
  },
  {
   "cell_type": "code",
   "execution_count": 18,
   "metadata": {},
   "outputs": [
    {
     "data": {
      "text/html": [
       "<pre style=\"word-wrap: normal;white-space: pre;background: #fff0;line-height: 1.1;font-family: &quot;Courier New&quot;,Courier,monospace\">     ┌───┐                                                                ░ ┌──────────┐ ░ ┌─┐      \n",
       "q_0: ┤ H ├─■──────────────────────────────────────────────────────────────░─┤0         ├─░─┤M├──────\n",
       "     ├───┤ │                                                              ░ │          │ ░ └╥┘┌─┐   \n",
       "q_1: ┤ H ├─┼────────■────────■────────────────────────────────────────────░─┤1 IQFT_dg ├─░──╫─┤M├───\n",
       "     ├───┤ │        │        │                                            ░ │          │ ░  ║ └╥┘┌─┐\n",
       "q_2: ┤ H ├─┼────────┼────────┼────────■────────■────────■────────■────────░─┤2         ├─░──╫──╫─┤M├\n",
       "     ├───┤ │P(π/4)  │P(π/4)  │P(π/4)  │P(π/4)  │P(π/4)  │P(π/4)  │P(π/4)  ░ └──────────┘ ░  ║  ║ └╥┘\n",
       "q_3: ┤ X ├─■────────■────────■────────■────────■────────■────────■────────░──────────────░──╫──╫──╫─\n",
       "     └───┘                                                                ░              ░  ║  ║  ║ \n",
       "c: 3/═══════════════════════════════════════════════════════════════════════════════════════╩══╩══╩═\n",
       "                                                                                            0  1  2 </pre>"
      ],
      "text/plain": [
       "     ┌───┐                                                                ░ ┌──────────┐ ░ ┌─┐      \n",
       "q_0: ┤ H ├─■──────────────────────────────────────────────────────────────░─┤0         ├─░─┤M├──────\n",
       "     ├───┤ │                                                              ░ │          │ ░ └╥┘┌─┐   \n",
       "q_1: ┤ H ├─┼────────■────────■────────────────────────────────────────────░─┤1 IQFT_dg ├─░──╫─┤M├───\n",
       "     ├───┤ │        │        │                                            ░ │          │ ░  ║ └╥┘┌─┐\n",
       "q_2: ┤ H ├─┼────────┼────────┼────────■────────■────────■────────■────────░─┤2         ├─░──╫──╫─┤M├\n",
       "     ├───┤ │P(π/4)  │P(π/4)  │P(π/4)  │P(π/4)  │P(π/4)  │P(π/4)  │P(π/4)  ░ └──────────┘ ░  ║  ║ └╥┘\n",
       "q_3: ┤ X ├─■────────■────────■────────■────────■────────■────────■────────░──────────────░──╫──╫──╫─\n",
       "     └───┘                                                                ░              ░  ║  ║  ║ \n",
       "c: 3/═══════════════════════════════════════════════════════════════════════════════════════╩══╩══╩═\n",
       "                                                                                            0  1  2 "
      ]
     },
     "execution_count": 18,
     "metadata": {},
     "output_type": "execute_result"
    }
   ],
   "source": [
    "qc = QuantumCircuit(4, 3)\n",
    "qc.h(0)\n",
    "qc.h(1)\n",
    "qc.h(2)\n",
    "qc.x(3)\n",
    "\n",
    "#qc.cp(lambda, control, target)\n",
    "\n",
    "qc.cp(pi/4, 0, 3)\n",
    "\n",
    "qc.cp(pi/4, 1, 3)\n",
    "qc.cp(pi/4, 1, 3)\n",
    "\n",
    "qc.cp(pi/4, 2, 3)\n",
    "qc.cp(pi/4, 2, 3)\n",
    "qc.cp(pi/4, 2, 3)\n",
    "qc.cp(pi/4, 2, 3)\n",
    "\n",
    "qc.barrier()\n",
    "\n",
    "qc = qc.compose(QFT(3, inverse=True), [0,1,2])\n",
    "\n",
    "qc.barrier()\n",
    "\n",
    "qc.measure(0,0)\n",
    "qc.measure(1,1)\n",
    "qc.measure(2,2)\n",
    "\n",
    "qc.draw(fold=200)"
   ]
  },
  {
   "cell_type": "markdown",
   "metadata": {},
   "source": [
    "Circuit estimating the phase of a $T$ gate with accuracy of three qubits. \n",
    "The circuit is composed of $4$ qubits, qubits $0$, $1$, $2$ represent the control register and qubit $3$ represents the eigenvector  $|1 \\rangle$.\n",
    "The control register controls the unitary operations $T$ applied to the target  eigenvector   $|1 \\rangle$. To estimate the phase $\\theta$ we perform the inverse QFT  to the $3$ control qubits."
   ]
  },
  {
   "cell_type": "code",
   "execution_count": 19,
   "metadata": {},
   "outputs": [
    {
     "name": "stdout",
     "output_type": "stream",
     "text": [
      "\n",
      "Total count are: {'001': 1000}\n"
     ]
    },
    {
     "data": {
      "image/png": "[encoded data removed]",
      "text/plain": [
       "<Figure size 504x360 with 1 Axes>"
      ]
     },
     "execution_count": 19,
     "metadata": {},
     "output_type": "execute_result"
    }
   ],
   "source": [
    "simulator = Aer.get_backend('qasm_simulator')\n",
    "result=simulator.run(qc.decompose(),shots=1000).result()\n",
    "counts = result.get_counts()\n",
    "print(\"\\nTotal count are:\",counts)\n",
    "plot_histogram(counts)"
   ]
  },
  {
   "cell_type": "markdown",
   "metadata": {},
   "source": [
    "The measured value corresponds to the binary value $001$ equal to one indicating phase $\\theta=0.125=1/2^3$"
   ]
  },
  {
   "cell_type": "markdown",
   "metadata": {},
   "source": [
    "## Quantum Counting\n",
    "\n",
    "The controlled Grover operator is implemented using use the circuit library with an  oracle that marks four solutions ($k=4$) out of $16$ states ($m^*=4)$"
   ]
  },
  {
   "cell_type": "code",
   "execution_count": 20,
   "metadata": {},
   "outputs": [],
   "source": [
    "import matplotlib.pyplot as plt\n",
    "import numpy as np\n",
    "import math\n"
   ]
  },
  {
   "cell_type": "code",
   "execution_count": 21,
   "metadata": {},
   "outputs": [],
   "source": [
    "def grover_operator():\n",
    "    #Grover iteration circuit for oracle with 4/16 solutions\n",
    "    from qiskit.circuit.library import Diagonal, GroverOperator\n",
    "    oracle = Diagonal([1,1,-1,1,1,1,1,1,1,1,1,1,-1,-1,-1,1])\n",
    "    grover_it = GroverOperator(oracle).to_gate()\n",
    "    grover_it.label = \"G\"\n",
    "    return grover_it"
   ]
  },
  {
   "cell_type": "markdown",
   "metadata": {},
   "source": [
    "and we will use the $.control()$ method to create a controlled gate from from the Grover operator. The circuit is composed of $8$ qubits, qubits $0$, $1$, $2$, $3$ represent the  $4$ qubits in the control register. The qubits $5$ to $7$ represents the four qubits  in the computational basis representing $16$ states.\n",
    "All qubits are  mapped into superposition by Hadamard gates. \n",
    "The control register controls the unitary operations $G$ by the control method  $.control()$ with the first qubit being the control qubit of the control register.\n",
    " resulting in the Fourier basis representation of the three control qubits. To estimate the phase $\\theta$ we perform the inverse QFT  to the $4$ control qubits and measure the four quits  and estimate $\\theta$"
   ]
  },
  {
   "cell_type": "code",
   "execution_count": 22,
   "metadata": {},
   "outputs": [],
   "source": [
    "from qiskit.circuit.library import QFT\n",
    "qft_dagger = QFT(4, inverse=True).to_gate()\n",
    "qft_dagger.label = \"QFT†\""
   ]
  },
  {
   "cell_type": "code",
   "execution_count": 23,
   "metadata": {},
   "outputs": [
    {
     "data": {
      "text/html": [
       "<pre style=\"word-wrap: normal;white-space: pre;background: #fff0;line-height: 1.1;font-family: &quot;Courier New&quot;,Courier,monospace\">     ┌───┐                                                                                          ┌───────┐┌─┐         \n",
       "q_0: ┤ H ├──■───────────────────────────────────────────────────────────────────────────────────────┤0      ├┤M├─────────\n",
       "     ├───┤  │                                                                                       │       │└╥┘┌─┐      \n",
       "q_1: ┤ H ├──┼─────■─────■───────────────────────────────────────────────────────────────────────────┤1      ├─╫─┤M├──────\n",
       "     ├───┤  │     │     │                                                                           │  QFT† │ ║ └╥┘┌─┐   \n",
       "q_2: ┤ H ├──┼─────┼─────┼─────■─────■─────■─────■───────────────────────────────────────────────────┤2      ├─╫──╫─┤M├───\n",
       "     ├───┤  │     │     │     │     │     │     │                                                   │       │ ║  ║ └╥┘┌─┐\n",
       "q_3: ┤ H ├──┼─────┼─────┼─────┼─────┼─────┼─────┼─────■─────■─────■─────■─────■─────■─────■─────■───┤3      ├─╫──╫──╫─┤M├\n",
       "     ├───┤┌─┴──┐┌─┴──┐┌─┴──┐┌─┴──┐┌─┴──┐┌─┴──┐┌─┴──┐┌─┴──┐┌─┴──┐┌─┴──┐┌─┴──┐┌─┴──┐┌─┴──┐┌─┴──┐┌─┴──┐└───────┘ ║  ║  ║ └╥┘\n",
       "q_4: ┤ H ├┤0   ├┤0   ├┤0   ├┤0   ├┤0   ├┤0   ├┤0   ├┤0   ├┤0   ├┤0   ├┤0   ├┤0   ├┤0   ├┤0   ├┤0   ├──────────╫──╫──╫──╫─\n",
       "     ├───┤│    ││    ││    ││    ││    ││    ││    ││    ││    ││    ││    ││    ││    ││    ││    │          ║  ║  ║  ║ \n",
       "q_5: ┤ H ├┤1   ├┤1   ├┤1   ├┤1   ├┤1   ├┤1   ├┤1   ├┤1   ├┤1   ├┤1   ├┤1   ├┤1   ├┤1   ├┤1   ├┤1   ├──────────╫──╫──╫──╫─\n",
       "     ├───┤│  G ││  G ││  G ││  G ││  G ││  G ││  G ││  G ││  G ││  G ││  G ││  G ││  G ││  G ││  G │          ║  ║  ║  ║ \n",
       "q_6: ┤ H ├┤2   ├┤2   ├┤2   ├┤2   ├┤2   ├┤2   ├┤2   ├┤2   ├┤2   ├┤2   ├┤2   ├┤2   ├┤2   ├┤2   ├┤2   ├──────────╫──╫──╫──╫─\n",
       "     ├───┤│    ││    ││    ││    ││    ││    ││    ││    ││    ││    ││    ││    ││    ││    ││    │          ║  ║  ║  ║ \n",
       "q_7: ┤ H ├┤3   ├┤3   ├┤3   ├┤3   ├┤3   ├┤3   ├┤3   ├┤3   ├┤3   ├┤3   ├┤3   ├┤3   ├┤3   ├┤3   ├┤3   ├──────────╫──╫──╫──╫─\n",
       "     └───┘└────┘└────┘└────┘└────┘└────┘└────┘└────┘└────┘└────┘└────┘└────┘└────┘└────┘└────┘└────┘          ║  ║  ║  ║ \n",
       "c: 4/═════════════════════════════════════════════════════════════════════════════════════════════════════════╩══╩══╩══╩═\n",
       "                                                                                                              0  1  2  3 </pre>"
      ],
      "text/plain": [
       "     ┌───┐                                                                                          ┌───────┐┌─┐         \n",
       "q_0: ┤ H ├──■───────────────────────────────────────────────────────────────────────────────────────┤0      ├┤M├─────────\n",
       "     ├───┤  │                                                                                       │       │└╥┘┌─┐      \n",
       "q_1: ┤ H ├──┼─────■─────■───────────────────────────────────────────────────────────────────────────┤1      ├─╫─┤M├──────\n",
       "     ├───┤  │     │     │                                                                           │  QFT† │ ║ └╥┘┌─┐   \n",
       "q_2: ┤ H ├──┼─────┼─────┼─────■─────■─────■─────■───────────────────────────────────────────────────┤2      ├─╫──╫─┤M├───\n",
       "     ├───┤  │     │     │     │     │     │     │                                                   │       │ ║  ║ └╥┘┌─┐\n",
       "q_3: ┤ H ├──┼─────┼─────┼─────┼─────┼─────┼─────┼─────■─────■─────■─────■─────■─────■─────■─────■───┤3      ├─╫──╫──╫─┤M├\n",
       "     ├───┤┌─┴──┐┌─┴──┐┌─┴──┐┌─┴──┐┌─┴──┐┌─┴──┐┌─┴──┐┌─┴──┐┌─┴──┐┌─┴──┐┌─┴──┐┌─┴──┐┌─┴──┐┌─┴──┐┌─┴──┐└───────┘ ║  ║  ║ └╥┘\n",
       "q_4: ┤ H ├┤0   ├┤0   ├┤0   ├┤0   ├┤0   ├┤0   ├┤0   ├┤0   ├┤0   ├┤0   ├┤0   ├┤0   ├┤0   ├┤0   ├┤0   ├──────────╫──╫──╫──╫─\n",
       "     ├───┤│    ││    ││    ││    ││    ││    ││    ││    ││    ││    ││    ││    ││    ││    ││    │          ║  ║  ║  ║ \n",
       "q_5: ┤ H ├┤1   ├┤1   ├┤1   ├┤1   ├┤1   ├┤1   ├┤1   ├┤1   ├┤1   ├┤1   ├┤1   ├┤1   ├┤1   ├┤1   ├┤1   ├──────────╫──╫──╫──╫─\n",
       "     ├───┤│  G ││  G ││  G ││  G ││  G ││  G ││  G ││  G ││  G ││  G ││  G ││  G ││  G ││  G ││  G │          ║  ║  ║  ║ \n",
       "q_6: ┤ H ├┤2   ├┤2   ├┤2   ├┤2   ├┤2   ├┤2   ├┤2   ├┤2   ├┤2   ├┤2   ├┤2   ├┤2   ├┤2   ├┤2   ├┤2   ├──────────╫──╫──╫──╫─\n",
       "     ├───┤│    ││    ││    ││    ││    ││    ││    ││    ││    ││    ││    ││    ││    ││    ││    │          ║  ║  ║  ║ \n",
       "q_7: ┤ H ├┤3   ├┤3   ├┤3   ├┤3   ├┤3   ├┤3   ├┤3   ├┤3   ├┤3   ├┤3   ├┤3   ├┤3   ├┤3   ├┤3   ├┤3   ├──────────╫──╫──╫──╫─\n",
       "     └───┘└────┘└────┘└────┘└────┘└────┘└────┘└────┘└────┘└────┘└────┘└────┘└────┘└────┘└────┘└────┘          ║  ║  ║  ║ \n",
       "c: 4/═════════════════════════════════════════════════════════════════════════════════════════════════════════╩══╩══╩══╩═\n",
       "                                                                                                              0  1  2  3 "
      ]
     },
     "execution_count": 23,
     "metadata": {},
     "output_type": "execute_result"
    }
   ],
   "source": [
    "qc = QuantumCircuit(8, 4) \n",
    "\n",
    "qc.h([0,1,2,3,4,5,6,7])\n",
    "\n",
    "cgrit = grover_operator().control()\n",
    "\n",
    "qc.append(cgrit, [0,4,5,6,7])\n",
    "   \n",
    "qc.append(cgrit, [1,4,5,6,7])\n",
    "qc.append(cgrit, [1,4,5,6,7])\n",
    "\n",
    "qc.append(cgrit, [2,4,5,6,7])\n",
    "qc.append(cgrit, [2,4,5,6,7])\n",
    "qc.append(cgrit, [2,4,5,6,7])\n",
    "qc.append(cgrit, [2,4,5,6,7])\n",
    "\n",
    "\n",
    "qc.append(cgrit, [3,4,5,6,7])\n",
    "qc.append(cgrit, [3,4,5,6,7])\n",
    "qc.append(cgrit, [3,4,5,6,7])\n",
    "qc.append(cgrit, [3,4,5,6,7])\n",
    "qc.append(cgrit, [3,4,5,6,7])\n",
    "qc.append(cgrit, [3,4,5,6,7])\n",
    "qc.append(cgrit, [3,4,5,6,7])\n",
    "qc.append(cgrit, [3,4,5,6,7])\n",
    "\n",
    "# Do inverse QFT on counting qubits\n",
    "qc.append(qft_dagger, [0,1,2,3])\n",
    "\n",
    "# Measure counting qubits\n",
    "qc.measure([0,1,2,3], [0,1,2,3])\n",
    "\n",
    "# Display the circuit\n",
    "qc.draw(fold=220)"
   ]
  },
  {
   "cell_type": "markdown",
   "metadata": {},
   "source": [
    " The controlled Grover operator is implemented using use the circuit library with an  oracle that marks four solutions ($k=4$) out of $16$ states ($m^*=4)$. The circuit is composed of $8$ qubits, qubits $0$, $1$, $2$, $3$ represent the  $4$ qubits in the control register. The qubits $5$ to $7$ represents the four qubits   in the computational basis representing $16$ states.\n",
    "All qubits are  mapped into superposition by Hadamard gates. \n",
    "The control register controls the unitary operations $G$ \n",
    " resulting in the Fourier basis representation of the three control qubits. To estimate the phase $\\theta$ we perform the inverse QFT  to the $4$ control qubits and measure the four quits."
   ]
  },
  {
   "cell_type": "markdown",
   "metadata": {},
   "source": [
    "simulator = Aer.get_backend('qasm_simulator')\n",
    "result=execute(qc,simulator,shots=1000).result()\n",
    "counts = result.get_counts()\n",
    "print(\"\\nTotal count are:\",counts)\n",
    "\n",
    "plot_histogram(counts)"
   ]
  },
  {
   "cell_type": "code",
   "execution_count": 24,
   "metadata": {},
   "outputs": [
    {
     "name": "stdout",
     "output_type": "stream",
     "text": [
      "\n",
      "Total count are: {'0110': 4, '0000': 12, '1000': 2, '0111': 2, '1010': 6, '1001': 3, '1100': 21, '0100': 24, '0011': 351, '0001': 17, '1011': 9, '1110': 78, '0101': 9, '0010': 97, '1111': 13, '1101': 352}\n"
     ]
    },
    {
     "data": {
      "image/png": "[encoded data removed]",
      "text/plain": [
       "<Figure size 504x360 with 1 Axes>"
      ]
     },
     "execution_count": 24,
     "metadata": {},
     "output_type": "execute_result"
    }
   ],
   "source": [
    "simulator = Aer.get_backend('qasm_simulator')\n",
    "result=simulator.run(qc.decompose().decompose(),shots=1000).result()\n",
    "counts = result.get_counts()\n",
    "print(\"\\nTotal count are:\",counts)\n",
    "plot_histogram(counts)"
   ]
  },
  {
   "cell_type": "markdown",
   "metadata": {},
   "source": [
    "The maximal measured value corresponds to the binary value $0011$ ($3$ decimal) or $1101$  ($13$ decimal), see Figure  \\ref{Phase_Estim_Grover_Count.eps} (b).\n",
    "The phase is either  $\\theta_1=\\frac{ \\pi \\cdot 3}{16}$  or $\\theta_2=\\frac{\\pi \\cdot 13}{16}$ corresponding to the  two eigenvalues $\\lambda_1=e^{ 2 \\cdot i \\theta}$ or $\\lambda_2=e^{ - 2 \\cdot i \\theta}$ with positive and negative phase with\n",
    "\n",
    "\\begin{equation}\n",
    "\\sin^2 \\left(\\theta \\right)=\\sin^2 \\left(-\\theta \\right)\n",
    "\\end{equation}\n",
    "with approximately the correct answer\n",
    "\n",
    "\\begin{equation}\n",
    "k=4.9 \\approx   \\sin^2 \\left( \\frac{ \\pi \\cdot 3}{16} \\right) \\cdot 16 = sin^2 \\left( \\frac{ \\pi \\cdot 13}{16} \\right) \\cdot 16.\n",
    "\\end{equation}\n"
   ]
  }
 ],
 "metadata": {
  "kernelspec": {
   "display_name": "base",
   "language": "python",
   "name": "python3"
  },
  "language_info": {
   "codemirror_mode": {
    "name": "ipython",
    "version": 3
   },
   "file_extension": ".py",
   "mimetype": "text/x-python",
   "name": "python",
   "nbconvert_exporter": "python",
   "pygments_lexer": "ipython3",
   "version": "3.9.12"
  },
  "orig_nbformat": 4
 },
 "nbformat": 4,
 "nbformat_minor": 2
}
